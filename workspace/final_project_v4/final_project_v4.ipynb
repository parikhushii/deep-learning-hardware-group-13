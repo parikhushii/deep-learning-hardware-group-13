{
 "cells": [
  {
   "cell_type": "code",
   "execution_count": 24,
   "id": "0f77928a-de22-48f2-8160-09ceaab41d16",
   "metadata": {},
   "outputs": [],
   "source": [
    "import pandas as pd\n",
    "import numpy as np\n",
    "from loaders import *"
   ]
  },
  {
   "cell_type": "markdown",
   "id": "a4d60dff-65a6-4d4a-8503-7f66f24e65ae",
   "metadata": {},
   "source": [
    "Changes made:\n",
    "1. Switched MAC from being Imac to Fmac becuase of error message about \"cannot find energy estimator\"\n",
    "2. Created 1 glb instead of 2, one for psum (expected depth: 1920) and one iacts (expected depth: 1536).\n",
    "3. Chnaged the spatial architecture for the PE cluster from 3x4 to 4x4"
   ]
  },
  {
   "cell_type": "code",
   "execution_count": 25,
   "id": "3e9d0431-0fcc-4c13-bf83-e17d84338fd5",
   "metadata": {
    "scrolled": true
   },
   "outputs": [
    {
     "name": "stdout",
     "output_type": "stream",
     "text": [
      "run_timeloop_model:  <function run_timeloop_model at 0xffff68092ef0>\n",
      "[INFO] 2025-04-12 22:31:47,989 - pytimeloop.accelergy_interface - Running Accelergy with command: accelergy /home/workspace/final_project_v4/output_dir/parsed-processed-input.yaml -o ./output_dir/ -v\n"
     ]
    },
    {
     "name": "stderr",
     "output_type": "stream",
     "text": [
      "INFO:pytimeloop.accelergy_interface:Running Accelergy with command: accelergy /home/workspace/final_project_v4/output_dir/parsed-processed-input.yaml -o ./output_dir/ -v\n"
     ]
    },
    {
     "name": "stdout",
     "output_type": "stream",
     "text": [
      "Buffer and Arithmetic Levels\n",
      "----------------------------\n",
      "Level 0\n",
      "-------\n",
      "=== MAC ===\n",
      "\n",
      "    SPECS\n",
      "    -----\n",
      "    Word bits             : 8\n",
      "    Instances             : 256 (32*8)\n",
      "    Compute energy        : 15.57 pJ\n",
      "\n",
      "    STATS\n",
      "    -----\n",
      "    Utilized instances (max)     : 256\n",
      "    Utilized instances (average) : 256\n",
      "    Cycles                       : 16384\n",
      "    Algorithmic Computes (total) : 4194304\n",
      "    Actual Computes (total)      : 4194304\n",
      "    Gated Computes (total)       : 0\n",
      "    Skipped Computes (total)     : 0\n",
      "    Energy (total)               : 65324607.08 pJ\n",
      "    Area (total)                 : 768450.56 um^2\n",
      "\n",
      "\n",
      "Level 1\n",
      "-------\n",
      "=== reg ===\n",
      "\n",
      "    SPECS\n",
      "    -----\n",
      "        Technology                      : SRAM\n",
      "        Data storage size               : 1\n",
      "        Data word bits                  : 8\n",
      "        Data block size                 : 1\n",
      "        Metadata storage width(bits)    : 4\n",
      "        Metadata storage depth          : 1\n",
      "        Cluster size                    : 1\n",
      "        Instances                       : 256 (32*8)\n",
      "        Shared bandwidth                : -\n",
      "        Read bandwidth                  : -\n",
      "        Write bandwidth                 : -\n",
      "        Multiple buffering              : 1.00\n",
      "        Effective data storage size     : 1\n",
      "        Min utilization                 : 0.00\n",
      "        Vector read energy              : 0.01 pJ\n",
      "        Vector write energy             : 0.01 pJ\n",
      "        Vector metadata read energy     : 0.01 pJ\n",
      "        Vector metadata write energy    : 0.02 pJ\n",
      "        (De)compression energy          : 0.00 pJ\n",
      "        Per-instance-cycle leakage      : 0.00 pJ\n",
      "        Instances sharing power gating  : 1.00\n",
      "        Non-power-gated utilization     : 100.00%\n",
      "        Leakage energy (total)          : 0.19 pJ\n",
      "        Area                            : 7.10 um^2\n",
      "\n",
      "    STATS\n",
      "    -----\n",
      "    Cycles               : 16384\n",
      "    Bandwidth throttling : 1.00\n",
      "    Inputs:\n",
      "        Partition size                                              : 8192\n",
      "        Tile density distribution                                   : fixed_structured\n",
      "        Data tile shape                                             : 1\n",
      "        Max utilized data storage capacity                          : 1\n",
      "        Representation format                                       : rle \n",
      "        Max utilized Repr format storage capacity                   \n",
      "            Rank 0 (metadata, payload): (1, 0)\n",
      "        Utilized instances (max)                                    : 256\n",
      "        Utilized instances (average)                                : 256.00\n",
      "        Utilized clusters (max)                                     : 256\n",
      "        Algorithmic scalar reads (per-instance)                     : 16384\n",
      "        Actual scalar reads (per-instance)                          : 16384\n",
      "        Gated scalar reads (per-instance)                           : 0\n",
      "        Skipped scalar reads (per-instance)                         : 0\n",
      "        Algorithmic scalar fills (per-instance)                     : 16384\n",
      "        Actual scalar fills (per-instance)                          : 16384\n",
      "        Gated scalar fills (per-instance)                           : 0\n",
      "        Skipped scalar fills (per-instance)                         : 0\n",
      "        Algorithmic scalar updates (per-instance)                   : 0\n",
      "        Actual scalar updates (per-instance)                        : 0\n",
      "        Gated scalar updates (per-instance)                         : 0\n",
      "        Skipped scalar updates (per-instance)                       : 0\n",
      "        Actual scalar format reads (per-instance)                   \n",
      "            Rank 0 (metadata, payload): (16384,  0)\n",
      "        Gated scalar format reads (per-instance)                    : 0\n",
      "        Skipped scalar format reads (per-instance)                  : 0\n",
      "        Actual scalar format fills (per-instance)                   \n",
      "            Rank 0 (metadata, payload): (16384,  0)\n",
      "        Gated scalar format fills (per-instance)                    : 0\n",
      "        Skipped scalar format fills (per-instance)                  : 0\n",
      "        Actual scalar format updates (per-instance)                 : 0\n",
      "        Gated scalar format updates (per-instance)                  : 0\n",
      "        Skipped scalar format updates (per-instance)                : 0\n",
      "        Temporal reductions (per-instance)                          : 0\n",
      "        Address generations (per-cluster)                           : 32768\n",
      "        Energy (per-scalar-access)                                  : 0.03 pJ\n",
      "        Energy (per-instance)                                       : 846.34 pJ\n",
      "        Energy (total)                                              : 216661.81 pJ\n",
      "        Temporal Reduction Energy (per-instance)                    : 0.00 pJ\n",
      "        Temporal Reduction Energy (total)                           : 0.00 pJ\n",
      "        Address Generation Energy (per-cluster)                     : 0.00 pJ\n",
      "        Address Generation Energy (total)                           : 0.00 pJ\n",
      "        Bandwidth Consumption Scale                                 : 1.00\n",
      "        Average Shared Bandwidth (per-instance)                     : 3.00 words/cycle\n",
      "            Breakdown (Data, Format): (-32.33%, 33.33%\n",
      "        Shared Bandwidth (total)                                    : 768.00 words/cycle\n",
      "        Average Read Bandwidth (per-instance)                       : 1.50 words/cycle\n",
      "            Breakdown (Data, Format): (-32.33%, 33.33%)\n",
      "        Read Bandwidth (total)                                      : 384.00 words/cycle\n",
      "        Average Write Bandwidth (per-instance)                      : 1.50 words/cycle\n",
      "            Breakdown (Data, Format): (-32.33%, 33.33%)\n",
      "        Write Bandwidth (total)                                     : 384.00 words/cycle\n",
      "\n",
      "Level 2\n",
      "-------\n",
      "=== psum_spad ===\n",
      "\n",
      "    SPECS\n",
      "    -----\n",
      "        Technology                      : SRAM\n",
      "        Data storage size               : 32\n",
      "        Data word bits                  : 20\n",
      "        Data block size                 : 1\n",
      "        Metadata storage width(bits)    : 0\n",
      "        Metadata storage depth          : -\n",
      "        Cluster size                    : 1\n",
      "        Instances                       : 256 (32*8)\n",
      "        Shared bandwidth                : -\n",
      "        Read bandwidth                  : -\n",
      "        Write bandwidth                 : -\n",
      "        Multiple buffering              : 1.00\n",
      "        Effective data storage size     : 32\n",
      "        Min utilization                 : 0.00\n",
      "        Vector read energy              : 0.23 pJ\n",
      "        Vector write energy             : 0.34 pJ\n",
      "        Vector metadata read energy     : 0.00 pJ\n",
      "        Vector metadata write energy    : 0.00 pJ\n",
      "        (De)compression energy          : 0.00 pJ\n",
      "        Per-instance-cycle leakage      : 0.00 pJ\n",
      "        Instances sharing power gating  : 1.00\n",
      "        Non-power-gated utilization     : 100.00%\n",
      "        Leakage energy (total)          : 15.59 pJ\n",
      "        Area                            : 402.73 um^2\n",
      "\n",
      "    STATS\n",
      "    -----\n",
      "    Cycles               : 16384\n",
      "    Bandwidth throttling : 1.00\n",
      "    Outputs:\n",
      "        Partition size                                              : 2048\n",
      "        Tile density distribution                                   : fixed_structured\n",
      "        Data tile shape                                             : 1\n",
      "        Max utilized data storage capacity                          : 1\n",
      "        Representation format                                       : none\n",
      "        Max utilized Repr format storage capacity                   : 0\n",
      "        Utilized instances (max)                                    : 256\n",
      "        Utilized instances (average)                                : 256.00\n",
      "        Utilized clusters (max)                                     : 256\n",
      "        Algorithmic scalar reads (per-instance)                     : 14336\n",
      "        Actual scalar reads (per-instance)                          : 14336\n",
      "        Gated scalar reads (per-instance)                           : 0\n",
      "        Skipped scalar reads (per-instance)                         : 0\n",
      "        Algorithmic scalar fills (per-instance)                     : 14336\n",
      "        Actual scalar fills (per-instance)                          : 14336\n",
      "        Gated scalar fills (per-instance)                           : 0\n",
      "        Skipped scalar fills (per-instance)                         : 0\n",
      "        Algorithmic scalar updates (per-instance)                   : 16384\n",
      "        Actual scalar updates (per-instance)                        : 16384\n",
      "        Gated scalar updates (per-instance)                         : 0\n",
      "        Skipped scalar updates (per-instance)                       : 0\n",
      "        Temporal reductions (per-instance)                          : 14336\n",
      "        Address generations (per-cluster)                           : 30720\n",
      "        Energy (per-scalar-access)                                  : 0.31 pJ\n",
      "        Energy (per-instance)                                       : 13837.41 pJ\n",
      "        Energy (total)                                              : 3542377.04 pJ\n",
      "        Temporal Reduction Energy (per-instance)                    : 0.00 pJ\n",
      "        Temporal Reduction Energy (total)                           : 0.00 pJ\n",
      "        Address Generation Energy (per-cluster)                     : 0.00 pJ\n",
      "        Address Generation Energy (total)                           : 0.00 pJ\n",
      "        Bandwidth Consumption Scale                                 : 1.00\n",
      "        Average Shared Bandwidth (per-instance)                     : 2.75 words/cycle\n",
      "            Breakdown (Data, Format): (1.00%, 0.00%\n",
      "        Shared Bandwidth (total)                                    : 704.00 words/cycle\n",
      "        Average Read Bandwidth (per-instance)                       : 0.88 words/cycle\n",
      "            Breakdown (Data, Format): (1.00%, 0.00%)\n",
      "        Read Bandwidth (total)                                      : 224.00 words/cycle\n",
      "        Average Write Bandwidth (per-instance)                      : 1.88 words/cycle\n",
      "            Breakdown (Data, Format): (1.00%, 0.00%)\n",
      "        Write Bandwidth (total)                                     : 480.00 words/cycle\n",
      "\n",
      "Level 3\n",
      "-------\n",
      "=== weight_spad ===\n",
      "\n",
      "    SPECS\n",
      "    -----\n",
      "        Technology                      : SRAM\n",
      "        Data storage size               : 192\n",
      "        Data word bits                  : 8\n",
      "        Data block size                 : 1\n",
      "        Metadata storage width(bits)    : 8\n",
      "        Metadata storage depth          : 128\n",
      "        Cluster size                    : 1\n",
      "        Instances                       : 256 (32*8)\n",
      "        Shared bandwidth                : -\n",
      "        Read bandwidth                  : -\n",
      "        Write bandwidth                 : -\n",
      "        Multiple buffering              : 1.00\n",
      "        Effective data storage size     : 192\n",
      "        Min utilization                 : 0.00\n",
      "        Vector read energy              : 0.47 pJ\n",
      "        Vector write energy             : 0.79 pJ\n",
      "        Vector metadata read energy     : 0.40 pJ\n",
      "        Vector metadata write energy    : 0.83 pJ\n",
      "        (De)compression energy          : 0.00 pJ\n",
      "        Per-instance-cycle leakage      : 0.00 pJ\n",
      "        Instances sharing power gating  : 1.00\n",
      "        Non-power-gated utilization     : 100.00%\n",
      "        Leakage energy (total)          : 33.73 pJ\n",
      "        Area                            : 1302.68 um^2\n",
      "\n",
      "    STATS\n",
      "    -----\n",
      "    Cycles               : 16384\n",
      "    Bandwidth throttling : 1.00\n",
      "    Weights:\n",
      "        Partition size                                              : 16\n",
      "        Tile density distribution                                   : fixed_structured\n",
      "        Data tile shape                                             : 1\n",
      "        Max utilized data storage capacity                          : 1\n",
      "        Representation format                                       : uop rle \n",
      "        Max utilized Repr format storage capacity                   \n",
      "            Rank 1 (metadata, payload): (0, 0)\n",
      "            Rank 0 (metadata, payload): (0, 0)\n",
      "        Utilized instances (max)                                    : 256\n",
      "        Utilized instances (average)                                : 256.00\n",
      "        Utilized clusters (max)                                     : 256\n",
      "        Algorithmic scalar reads (per-instance)                     : 16384\n",
      "        Actual scalar reads (per-instance)                          : 16384\n",
      "        Gated scalar reads (per-instance)                           : 0\n",
      "        Skipped scalar reads (per-instance)                         : 0\n",
      "        Algorithmic scalar fills (per-instance)                     : 16\n",
      "        Actual scalar fills (per-instance)                          : 16\n",
      "        Gated scalar fills (per-instance)                           : 0\n",
      "        Skipped scalar fills (per-instance)                         : 0\n",
      "        Algorithmic scalar updates (per-instance)                   : 0\n",
      "        Actual scalar updates (per-instance)                        : 0\n",
      "        Gated scalar updates (per-instance)                         : 0\n",
      "        Skipped scalar updates (per-instance)                       : 0\n",
      "        Actual scalar format reads (per-instance)                   : 0\n",
      "        Gated scalar format reads (per-instance)                    : 0\n",
      "        Skipped scalar format reads (per-instance)                  : 0\n",
      "        Actual scalar format fills (per-instance)                   : 0\n",
      "        Gated scalar format fills (per-instance)                    : 0\n",
      "        Skipped scalar format fills (per-instance)                  : 0\n",
      "        Actual scalar format updates (per-instance)                 : 0\n",
      "        Gated scalar format updates (per-instance)                  : 0\n",
      "        Skipped scalar format updates (per-instance)                : 0\n",
      "        Temporal reductions (per-instance)                          : 0\n",
      "        Address generations (per-cluster)                           : 16400\n",
      "        Energy (per-scalar-access)                                  : 0.47 pJ\n",
      "        Energy (per-instance)                                       : 7648.33 pJ\n",
      "        Energy (total)                                              : 1957972.29 pJ\n",
      "        Temporal Reduction Energy (per-instance)                    : 0.00 pJ\n",
      "        Temporal Reduction Energy (total)                           : 0.00 pJ\n",
      "        Address Generation Energy (per-cluster)                     : 0.00 pJ\n",
      "        Address Generation Energy (total)                           : 0.00 pJ\n",
      "        Bandwidth Consumption Scale                                 : 1.00\n",
      "        Average Shared Bandwidth (per-instance)                     : 1.00 words/cycle\n",
      "            Breakdown (Data, Format): (1.00%, 0.00%\n",
      "        Shared Bandwidth (total)                                    : 256.25 words/cycle\n",
      "        Average Read Bandwidth (per-instance)                       : 1.00 words/cycle\n",
      "            Breakdown (Data, Format): (1.00%, 0.00%)\n",
      "        Read Bandwidth (total)                                      : 256.00 words/cycle\n",
      "        Average Write Bandwidth (per-instance)                      : 0.00 words/cycle\n",
      "            Breakdown (Data, Format): (1.00%, 0.00%)\n",
      "        Write Bandwidth (total)                                     : 0.25 words/cycle\n",
      "\n",
      "Level 4\n",
      "-------\n",
      "=== iact_spad ===\n",
      "\n",
      "    SPECS\n",
      "    -----\n",
      "        Technology                      : SRAM\n",
      "        Data storage size               : 16\n",
      "        Data word bits                  : 8\n",
      "        Data block size                 : 1\n",
      "        Metadata storage width(bits)    : 4\n",
      "        Metadata storage depth          : 25\n",
      "        Cluster size                    : 1\n",
      "        Instances                       : 256 (32*8)\n",
      "        Shared bandwidth                : -\n",
      "        Read bandwidth                  : -\n",
      "        Write bandwidth                 : -\n",
      "        Multiple buffering              : 1.00\n",
      "        Effective data storage size     : 16\n",
      "        Min utilization                 : 0.00\n",
      "        Vector read energy              : 0.09 pJ\n",
      "        Vector write energy             : 0.13 pJ\n",
      "        Vector metadata read energy     : 0.13 pJ\n",
      "        Vector metadata write energy    : 0.21 pJ\n",
      "        (De)compression energy          : 0.00 pJ\n",
      "        Per-instance-cycle leakage      : 0.00 pJ\n",
      "        Instances sharing power gating  : 1.00\n",
      "        Non-power-gated utilization     : 100.00%\n",
      "        Leakage energy (total)          : 3.12 pJ\n",
      "        Area                            : 132.08 um^2\n",
      "\n",
      "    STATS\n",
      "    -----\n",
      "    Cycles               : 16384\n",
      "    Bandwidth throttling : 1.00\n",
      "    Inputs:\n",
      "        Partition size                                              : 8192\n",
      "        Tile density distribution                                   : fixed_structured\n",
      "        Data tile shape                                             : 1\n",
      "        Max utilized data storage capacity                          : 1\n",
      "        Representation format                                       : uop rle \n",
      "        Max utilized Repr format storage capacity                   \n",
      "            Rank 1 (metadata, payload): (0, 0)\n",
      "            Rank 0 (metadata, payload): (0, 0)\n",
      "        Utilized instances (max)                                    : 256\n",
      "        Utilized instances (average)                                : 256.00\n",
      "        Utilized clusters (max)                                     : 256\n",
      "        Algorithmic scalar reads (per-instance)                     : 16384\n",
      "        Actual scalar reads (per-instance)                          : 16384\n",
      "        Gated scalar reads (per-instance)                           : 0\n",
      "        Skipped scalar reads (per-instance)                         : 0\n",
      "        Algorithmic scalar fills (per-instance)                     : 16384\n",
      "        Actual scalar fills (per-instance)                          : 16384\n",
      "        Gated scalar fills (per-instance)                           : 0\n",
      "        Skipped scalar fills (per-instance)                         : 0\n",
      "        Algorithmic scalar updates (per-instance)                   : 0\n",
      "        Actual scalar updates (per-instance)                        : 0\n",
      "        Gated scalar updates (per-instance)                         : 0\n",
      "        Skipped scalar updates (per-instance)                       : 0\n",
      "        Actual scalar format reads (per-instance)                   : 0\n",
      "        Gated scalar format reads (per-instance)                    : 0\n",
      "        Skipped scalar format reads (per-instance)                  : 0\n",
      "        Actual scalar format fills (per-instance)                   : 0\n",
      "        Gated scalar format fills (per-instance)                    : 0\n",
      "        Skipped scalar format fills (per-instance)                  : 0\n",
      "        Actual scalar format updates (per-instance)                 : 0\n",
      "        Gated scalar format updates (per-instance)                  : 0\n",
      "        Skipped scalar format updates (per-instance)                : 0\n",
      "        Temporal reductions (per-instance)                          : 0\n",
      "        Address generations (per-cluster)                           : 32768\n",
      "        Energy (per-scalar-access)                                  : 0.11 pJ\n",
      "        Energy (per-instance)                                       : 3532.34 pJ\n",
      "        Energy (total)                                              : 904278.52 pJ\n",
      "        Temporal Reduction Energy (per-instance)                    : 0.00 pJ\n",
      "        Temporal Reduction Energy (total)                           : 0.00 pJ\n",
      "        Address Generation Energy (per-cluster)                     : 0.00 pJ\n",
      "        Address Generation Energy (total)                           : 0.00 pJ\n",
      "        Bandwidth Consumption Scale                                 : 1.00\n",
      "        Average Shared Bandwidth (per-instance)                     : 2.00 words/cycle\n",
      "            Breakdown (Data, Format): (1.00%, 0.00%\n",
      "        Shared Bandwidth (total)                                    : 512.00 words/cycle\n",
      "        Average Read Bandwidth (per-instance)                       : 1.00 words/cycle\n",
      "            Breakdown (Data, Format): (1.00%, 0.00%)\n",
      "        Read Bandwidth (total)                                      : 256.00 words/cycle\n",
      "        Average Write Bandwidth (per-instance)                      : 1.00 words/cycle\n",
      "            Breakdown (Data, Format): (1.00%, 0.00%)\n",
      "        Write Bandwidth (total)                                     : 256.00 words/cycle\n",
      "\n",
      "Level 7\n",
      "-------\n",
      "=== DRAM ===\n",
      "\n",
      "    SPECS\n",
      "    -----\n",
      "        Technology                      : DRAM\n",
      "        Data storage size               : -\n",
      "        Data word bits                  : 8\n",
      "        Data block size                 : 8\n",
      "        Metadata storage width(bits)    : 8\n",
      "        Metadata storage depth          : -\n",
      "        Cluster size                    : 1\n",
      "        Instances                       : 1 (1*1)\n",
      "        Shared bandwidth                : -\n",
      "        Read bandwidth                  : -\n",
      "        Write bandwidth                 : -\n",
      "        Multiple buffering              : 1.00\n",
      "        Effective data storage size     : -\n",
      "        Min utilization                 : 0.00\n",
      "        Vector read energy              : 512.00 pJ\n",
      "        Vector write energy             : 512.00 pJ\n",
      "        Vector metadata read energy     : 0.00 pJ\n",
      "        Vector metadata write energy    : 0.00 pJ\n",
      "        (De)compression energy          : 0.00 pJ\n",
      "        Per-instance-cycle leakage      : 0.00 pJ\n",
      "        Instances sharing power gating  : 1.00\n",
      "        Non-power-gated utilization     : 100.00%\n",
      "        Leakage energy (total)          : 0.00 pJ\n",
      "        Area                            : 0.00 um^2\n",
      "\n",
      "    STATS\n",
      "    -----\n",
      "    Cycles               : 16384\n",
      "    Bandwidth throttling : 1.00\n",
      "    Weights:\n",
      "        Partition size                                              : 4096\n",
      "        Tile density distribution                                   : fixed_structured\n",
      "        Data tile shape                                             : 4096\n",
      "        Max utilized data storage capacity                          : 4096\n",
      "        Representation format                                       : uop uop uop uop uop rle \n",
      "        Max utilized Repr format storage capacity                   \n",
      "            Rank 5 (metadata, payload): (0, 3)\n",
      "            Rank 4 (metadata, payload): (0, 18)\n",
      "            Rank 3 (metadata, payload): (0, 48)\n",
      "            Rank 2 (metadata, payload): (0, 288)\n",
      "            Rank 1 (metadata, payload): (0, 1280)\n",
      "            Rank 0 (metadata, payload): (4096, 0)\n",
      "        Utilized instances (max)                                    : 1\n",
      "        Utilized instances (average)                                : 1.00\n",
      "        Utilized clusters (max)                                     : 1\n",
      "        Algorithmic scalar reads (per-instance)                     : 4096\n",
      "        Actual scalar reads (per-instance)                          : 4096\n",
      "        Gated scalar reads (per-instance)                           : 0\n",
      "        Skipped scalar reads (per-instance)                         : 0\n",
      "        Algorithmic scalar fills (per-instance)                     : 0\n",
      "        Actual scalar fills (per-instance)                          : 0\n",
      "        Gated scalar fills (per-instance)                           : 0\n",
      "        Skipped scalar fills (per-instance)                         : 0\n",
      "        Algorithmic scalar updates (per-instance)                   : 0\n",
      "        Actual scalar updates (per-instance)                        : 0\n",
      "        Gated scalar updates (per-instance)                         : 0\n",
      "        Skipped scalar updates (per-instance)                       : 0\n",
      "        Actual scalar format reads (per-instance)                   \n",
      "            Rank 5 (metadata, payload): (0,  3)\n",
      "            Rank 4 (metadata, payload): (0,  18)\n",
      "            Rank 3 (metadata, payload): (0,  48)\n",
      "            Rank 2 (metadata, payload): (0,  288)\n",
      "            Rank 1 (metadata, payload): (0,  1280)\n",
      "            Rank 0 (metadata, payload): (4096,  0)\n",
      "        Gated scalar format reads (per-instance)                    : 0\n",
      "        Skipped scalar format reads (per-instance)                  : 0\n",
      "        Actual scalar format fills (per-instance)                   : 0\n",
      "        Gated scalar format fills (per-instance)                    : 0\n",
      "        Skipped scalar format fills (per-instance)                  : 0\n",
      "        Actual scalar format updates (per-instance)                 : 0\n",
      "        Gated scalar format updates (per-instance)                  : 0\n",
      "        Skipped scalar format updates (per-instance)                : 0\n",
      "        Temporal reductions (per-instance)                          : 0\n",
      "        Address generations (per-cluster)                           : 4096\n",
      "        Energy (per-scalar-access)                                  : 64.00 pJ\n",
      "        Energy (per-instance)                                       : 262144.00 pJ\n",
      "        Energy (total)                                              : 262144.00 pJ\n",
      "        Temporal Reduction Energy (per-instance)                    : 0.00 pJ\n",
      "        Temporal Reduction Energy (total)                           : 0.00 pJ\n",
      "        Address Generation Energy (per-cluster)                     : 0.00 pJ\n",
      "        Address Generation Energy (total)                           : 0.00 pJ\n",
      "        Bandwidth Consumption Scale                                 : 1.00\n",
      "        Average Shared Bandwidth (per-instance)                     : 0.45 words/cycle\n",
      "            Breakdown (Data, Format): (-43.83%, 44.83%\n",
      "        Shared Bandwidth (total)                                    : 0.45 words/cycle\n",
      "        Average Read Bandwidth (per-instance)                       : 0.45 words/cycle\n",
      "            Breakdown (Data, Format): (-43.83%, 44.83%)\n",
      "        Read Bandwidth (total)                                      : 0.45 words/cycle\n",
      "        Average Write Bandwidth (per-instance)                      : 0.00 words/cycle\n",
      "            Breakdown (Data, Format): (1.00%, 0.00%)\n",
      "        Write Bandwidth (total)                                     : 0.00 words/cycle\n",
      "    Inputs:\n",
      "        Partition size                                              : 65536\n",
      "        Tile density distribution                                   : fixed_structured\n",
      "        Data tile shape                                             : 65536\n",
      "        Max utilized data storage capacity                          : 65536\n",
      "        Representation format                                       : uop uop uop uop uop uop rle \n",
      "        Max utilized Repr format storage capacity                   \n",
      "            Rank 6 (metadata, payload): (0, 2)\n",
      "            Rank 5 (metadata, payload): (0, 0)\n",
      "            Rank 4 (metadata, payload): (0, 0)\n",
      "            Rank 3 (metadata, payload): (0, 9)\n",
      "            Rank 2 (metadata, payload): (0, 264)\n",
      "            Rank 1 (metadata, payload): (0, 8448)\n",
      "            Rank 0 (metadata, payload): (65536, 0)\n",
      "        Utilized instances (max)                                    : 1\n",
      "        Utilized instances (average)                                : 1.00\n",
      "        Utilized clusters (max)                                     : 1\n",
      "        Algorithmic scalar reads (per-instance)                     : 131072\n",
      "        Actual scalar reads (per-instance)                          : 131072\n",
      "        Gated scalar reads (per-instance)                           : 0\n",
      "        Skipped scalar reads (per-instance)                         : 0\n",
      "        Algorithmic scalar fills (per-instance)                     : 0\n",
      "        Actual scalar fills (per-instance)                          : 0\n",
      "        Gated scalar fills (per-instance)                           : 0\n",
      "        Skipped scalar fills (per-instance)                         : 0\n",
      "        Algorithmic scalar updates (per-instance)                   : 0\n",
      "        Actual scalar updates (per-instance)                        : 0\n",
      "        Gated scalar updates (per-instance)                         : 0\n",
      "        Skipped scalar updates (per-instance)                       : 0\n",
      "        Actual scalar format reads (per-instance)                   \n",
      "            Rank 6 (metadata, payload): (0,  4)\n",
      "            Rank 5 (metadata, payload): (0,  0)\n",
      "            Rank 4 (metadata, payload): (0,  0)\n",
      "            Rank 3 (metadata, payload): (0,  18)\n",
      "            Rank 2 (metadata, payload): (0,  528)\n",
      "            Rank 1 (metadata, payload): (0,  16896)\n",
      "            Rank 0 (metadata, payload): (131072,  0)\n",
      "        Gated scalar format reads (per-instance)                    : 0\n",
      "        Skipped scalar format reads (per-instance)                  : 0\n",
      "        Actual scalar format fills (per-instance)                   : 0\n",
      "        Gated scalar format fills (per-instance)                    : 0\n",
      "        Skipped scalar format fills (per-instance)                  : 0\n",
      "        Actual scalar format updates (per-instance)                 : 0\n",
      "        Gated scalar format updates (per-instance)                  : 0\n",
      "        Skipped scalar format updates (per-instance)                : 0\n",
      "        Temporal reductions (per-instance)                          : 0\n",
      "        Address generations (per-cluster)                           : 131072\n",
      "        Energy (per-scalar-access)                                  : 64.00 pJ\n",
      "        Energy (per-instance)                                       : 8388608.00 pJ\n",
      "        Energy (total)                                              : 8388608.00 pJ\n",
      "        Temporal Reduction Energy (per-instance)                    : 0.00 pJ\n",
      "        Temporal Reduction Energy (total)                           : 0.00 pJ\n",
      "        Address Generation Energy (per-cluster)                     : 0.00 pJ\n",
      "        Address Generation Energy (total)                           : 0.00 pJ\n",
      "        Bandwidth Consumption Scale                                 : 1.00\n",
      "        Average Shared Bandwidth (per-instance)                     : 12.52 words/cycle\n",
      "            Breakdown (Data, Format): (-35.08%, 36.08%\n",
      "        Shared Bandwidth (total)                                    : 12.52 words/cycle\n",
      "        Average Read Bandwidth (per-instance)                       : 12.52 words/cycle\n",
      "            Breakdown (Data, Format): (-35.08%, 36.08%)\n",
      "        Read Bandwidth (total)                                      : 12.52 words/cycle\n",
      "        Average Write Bandwidth (per-instance)                      : 0.00 words/cycle\n",
      "            Breakdown (Data, Format): (1.00%, 0.00%)\n",
      "        Write Bandwidth (total)                                     : 0.00 words/cycle\n",
      "    Outputs:\n",
      "        Partition size                                              : 65536\n",
      "        Tile density distribution                                   : fixed_structured\n",
      "        Data tile shape                                             : 65536\n",
      "        Max utilized data storage capacity                          : 65536\n",
      "        Representation format                                       : none\n",
      "        Max utilized Repr format storage capacity                   : 0\n",
      "        Utilized instances (max)                                    : 1\n",
      "        Utilized instances (average)                                : 1.00\n",
      "        Utilized clusters (max)                                     : 1\n",
      "        Algorithmic scalar reads (per-instance)                     : 458752\n",
      "        Actual scalar reads (per-instance)                          : 458752\n",
      "        Gated scalar reads (per-instance)                           : 0\n",
      "        Skipped scalar reads (per-instance)                         : 0\n",
      "        Algorithmic scalar fills (per-instance)                     : 0\n",
      "        Actual scalar fills (per-instance)                          : 0\n",
      "        Gated scalar fills (per-instance)                           : 0\n",
      "        Skipped scalar fills (per-instance)                         : 0\n",
      "        Algorithmic scalar updates (per-instance)                   : 524288\n",
      "        Actual scalar updates (per-instance)                        : 524288\n",
      "        Gated scalar updates (per-instance)                         : 0\n",
      "        Skipped scalar updates (per-instance)                       : 0\n",
      "        Temporal reductions (per-instance)                          : 458752\n",
      "        Address generations (per-cluster)                           : 524288\n",
      "        Energy (per-scalar-access)                                  : 64.00 pJ\n",
      "        Energy (per-instance)                                       : 62914560.00 pJ\n",
      "        Energy (total)                                              : 62914560.00 pJ\n",
      "        Temporal Reduction Energy (per-instance)                    : 0.00 pJ\n",
      "        Temporal Reduction Energy (total)                           : 0.00 pJ\n",
      "        Address Generation Energy (per-cluster)                     : 0.00 pJ\n",
      "        Address Generation Energy (total)                           : 0.00 pJ\n",
      "        Bandwidth Consumption Scale                                 : 1.00\n",
      "        Average Shared Bandwidth (per-instance)                     : 60.00 words/cycle\n",
      "            Breakdown (Data, Format): (1.00%, 0.00%\n",
      "        Shared Bandwidth (total)                                    : 60.00 words/cycle\n",
      "        Average Read Bandwidth (per-instance)                       : 28.00 words/cycle\n",
      "            Breakdown (Data, Format): (1.00%, 0.00%)\n",
      "        Read Bandwidth (total)                                      : 28.00 words/cycle\n",
      "        Average Write Bandwidth (per-instance)                      : 32.00 words/cycle\n",
      "            Breakdown (Data, Format): (1.00%, 0.00%)\n",
      "        Write Bandwidth (total)                                     : 32.00 words/cycle\n",
      "\n",
      "Networks\n",
      "--------\n",
      "\n",
      "Operational Intensity Stats\n",
      "---------------------------\n",
      "    Total elementwise ops                   : 4194304\n",
      "    Total reduction ops                     : 4128768\n",
      "    Total ops                               : 8323072\n",
      "    Total memory accesses required          : 135168\n",
      "    Optimal Op per Byte                     : 61.58\n",
      "\n",
      "=== reg ===\n",
      "    Total scalar accesses                   : 8388608\n",
      "    Op per Byte                             : 0.99\n",
      "=== psum_spad ===\n",
      "    Total scalar accesses                   : 11534336\n",
      "    Op per Byte                             : 0.29\n",
      "=== weight_spad ===\n",
      "    Total scalar accesses                   : 4198400\n",
      "    Op per Byte                             : 1.98\n",
      "=== iact_spad ===\n",
      "    Total scalar accesses                   : 8388608\n",
      "    Op per Byte                             : 0.99\n",
      "=== inter_PE_Cluster_spatial ===\n",
      "=== inter_ClusterArray_spatial ===\n",
      "=== DRAM ===\n",
      "    Total scalar accesses                   : 1118208\n",
      "    Op per Byte                             : 7.44\n",
      "\n",
      "\n",
      "Summary Stats\n",
      "-------------\n",
      "GFLOPs (@1GHz): 508.00\n",
      "Utilization: 100.00%\n",
      "Cycles: 16384\n",
      "Energy: 143.51 uJ\n",
      "EDP(J*cycle): 2.35e+00\n",
      "Area: 0.00 mm^2\n",
      "\n",
      "Algorithmic Computes = 4194304\n",
      "fJ/Algorithmic-Compute\n",
      "    MAC                                                      = 15574.60\n",
      "    reg                                                      = 51.66\n",
      "    psum_spad                                                = 844.57\n",
      "    weight_spad                                              = 466.83\n",
      "    iact_spad                                                = 215.60\n",
      "    DRAM                                                     = 17062.50\n",
      "    Total                                                    = 34215.75\n",
      "\n",
      "Actual Computes = 4194304\n",
      "fJ/Compute\n",
      "    MAC                                                      = 15574.60\n",
      "    reg                                                      = 51.66\n",
      "    psum_spad                                                = 844.57\n",
      "    weight_spad                                              = 466.83\n",
      "    iact_spad                                                = 215.60\n",
      "    DRAM                                                     = 17062.50\n",
      "    Total                                                    = 34215.75\n",
      "\n",
      "\n"
     ]
    }
   ],
   "source": [
    "print(\"run_timeloop_model: \", run_timeloop_model)\n",
    "out = run_timeloop_model(\n",
    "    # constraints='part6/constraints_global.yaml',\n",
    "    problem='L07_problem.yaml',\n",
    "    mapping='L07_mapping.yaml',\n",
    "    sparse_optimizations='L07_sparse_opt.yaml', \n",
    "    density_weights=1.0, \n",
    "    density_inputs=1.0\n",
    ")\n",
    "stats = open('./output_dir/timeloop-model.stats.txt', 'r').read()\n",
    "print(stats)\n"
   ]
  },
  {
   "cell_type": "code",
   "execution_count": 3,
   "id": "a0c1162e-4e08-4417-85d5-441d8305ad5b",
   "metadata": {},
   "outputs": [],
   "source": [
    "# !timeloop model ./output_dir/parsed-processed-input.yaml"
   ]
  },
  {
   "cell_type": "code",
   "execution_count": 26,
   "id": "27fbc814-4590-4c3f-bb76-5eae075849bb",
   "metadata": {},
   "outputs": [
    {
     "name": "stdout",
     "output_type": "stream",
     "text": [
      "[INFO] 2025-04-12 22:32:10,625 - pytimeloop.accelergy_interface - Running Accelergy with command: accelergy /home/workspace/final_project_v4/output_dir/parsed-processed-input.yaml -o ./output_dir/ -v\n"
     ]
    },
    {
     "name": "stderr",
     "output_type": "stream",
     "text": [
      "INFO:pytimeloop.accelergy_interface:Running Accelergy with command: accelergy /home/workspace/final_project_v4/output_dir/parsed-processed-input.yaml -o ./output_dir/ -v\n"
     ]
    },
    {
     "name": "stdout",
     "output_type": "stream",
     "text": [
      "Density Weights: 0.2, Density Inputs: 0.2\n",
      "Compute Utilization: 99.9, Computes/Cycle: 6393.756097560976, fJ/Algorithmic-Compute: 18920.53, fJ/Compute: 473010.91\n",
      "[INFO] 2025-04-12 22:32:13,737 - pytimeloop.accelergy_interface - Running Accelergy with command: accelergy /home/workspace/final_project_v4/output_dir/parsed-processed-input.yaml -o ./output_dir/ -v\n"
     ]
    },
    {
     "name": "stderr",
     "output_type": "stream",
     "text": [
      "INFO:pytimeloop.accelergy_interface:Running Accelergy with command: accelergy /home/workspace/final_project_v4/output_dir/parsed-processed-input.yaml -o ./output_dir/ -v\n"
     ]
    },
    {
     "name": "stdout",
     "output_type": "stream",
     "text": [
      "Density Weights: 0.2, Density Inputs: 0.4\n",
      "Compute Utilization: 99.98, Computes/Cycle: 3199.316552250191, fJ/Algorithmic-Compute: 22529.38, fJ/Compute: 281616.67\n",
      "[INFO] 2025-04-12 22:32:16,904 - pytimeloop.accelergy_interface - Running Accelergy with command: accelergy /home/workspace/final_project_v4/output_dir/parsed-processed-input.yaml -o ./output_dir/ -v\n"
     ]
    },
    {
     "name": "stderr",
     "output_type": "stream",
     "text": [
      "INFO:pytimeloop.accelergy_interface:Running Accelergy with command: accelergy /home/workspace/final_project_v4/output_dir/parsed-processed-input.yaml -o ./output_dir/ -v\n"
     ]
    },
    {
     "name": "stdout",
     "output_type": "stream",
     "text": [
      "Density Weights: 0.2, Density Inputs: 0.6000000000000001\n",
      "Compute Utilization: 99.95, Computes/Cycle: 2132.3355363497712, fJ/Algorithmic-Compute: 26138.27, fJ/Compute: 217818.71\n",
      "[INFO] 2025-04-12 22:32:20,038 - pytimeloop.accelergy_interface - Running Accelergy with command: accelergy /home/workspace/final_project_v4/output_dir/parsed-processed-input.yaml -o ./output_dir/ -v\n"
     ]
    },
    {
     "name": "stderr",
     "output_type": "stream",
     "text": [
      "INFO:pytimeloop.accelergy_interface:Running Accelergy with command: accelergy /home/workspace/final_project_v4/output_dir/parsed-processed-input.yaml -o ./output_dir/ -v\n"
     ]
    },
    {
     "name": "stdout",
     "output_type": "stream",
     "text": [
      "Density Weights: 0.2, Density Inputs: 0.8\n",
      "Compute Utilization: 99.98, Computes/Cycle: 1599.6582761250954, fJ/Algorithmic-Compute: 29747.12, fJ/Compute: 185919.42\n",
      "[INFO] 2025-04-12 22:32:23,164 - pytimeloop.accelergy_interface - Running Accelergy with command: accelergy /home/workspace/final_project_v4/output_dir/parsed-processed-input.yaml -o ./output_dir/ -v\n"
     ]
    },
    {
     "name": "stderr",
     "output_type": "stream",
     "text": [
      "INFO:pytimeloop.accelergy_interface:Running Accelergy with command: accelergy /home/workspace/final_project_v4/output_dir/parsed-processed-input.yaml -o ./output_dir/ -v\n"
     ]
    },
    {
     "name": "stdout",
     "output_type": "stream",
     "text": [
      "Density Weights: 0.2, Density Inputs: 1.0\n",
      "Compute Utilization: 99.99, Computes/Cycle: 1279.9218797680805, fJ/Algorithmic-Compute: 33355.86, fJ/Compute: 166779.25\n",
      "[INFO] 2025-04-12 22:32:26,270 - pytimeloop.accelergy_interface - Running Accelergy with command: accelergy /home/workspace/final_project_v4/output_dir/parsed-processed-input.yaml -o ./output_dir/ -v\n"
     ]
    },
    {
     "name": "stderr",
     "output_type": "stream",
     "text": [
      "INFO:pytimeloop.accelergy_interface:Running Accelergy with command: accelergy /home/workspace/final_project_v4/output_dir/parsed-processed-input.yaml -o ./output_dir/ -v\n"
     ]
    },
    {
     "name": "stdout",
     "output_type": "stream",
     "text": [
      "Density Weights: 0.4, Density Inputs: 0.2\n",
      "Compute Utilization: 99.98, Computes/Cycle: 3199.316552250191, fJ/Algorithmic-Compute: 18973.58, fJ/Compute: 237169.29\n",
      "[INFO] 2025-04-12 22:32:29,425 - pytimeloop.accelergy_interface - Running Accelergy with command: accelergy /home/workspace/final_project_v4/output_dir/parsed-processed-input.yaml -o ./output_dir/ -v\n"
     ]
    },
    {
     "name": "stderr",
     "output_type": "stream",
     "text": [
      "INFO:pytimeloop.accelergy_interface:Running Accelergy with command: accelergy /home/workspace/final_project_v4/output_dir/parsed-processed-input.yaml -o ./output_dir/ -v\n"
     ]
    },
    {
     "name": "stdout",
     "output_type": "stream",
     "text": [
      "Density Weights: 0.4, Density Inputs: 0.4\n",
      "Compute Utilization: 99.98, Computes/Cycle: 1599.6582761250954, fJ/Algorithmic-Compute: 22622.92, fJ/Compute: 141393.18\n",
      "[INFO] 2025-04-12 22:32:32,555 - pytimeloop.accelergy_interface - Running Accelergy with command: accelergy /home/workspace/final_project_v4/output_dir/parsed-processed-input.yaml -o ./output_dir/ -v\n"
     ]
    },
    {
     "name": "stderr",
     "output_type": "stream",
     "text": [
      "INFO:pytimeloop.accelergy_interface:Running Accelergy with command: accelergy /home/workspace/final_project_v4/output_dir/parsed-processed-input.yaml -o ./output_dir/ -v\n"
     ]
    },
    {
     "name": "stdout",
     "output_type": "stream",
     "text": [
      "Density Weights: 0.4, Density Inputs: 0.6000000000000001\n",
      "Compute Utilization: 99.98, Computes/Cycle: 1066.4388507500635, fJ/Algorithmic-Compute: 26272.26, fJ/Compute: 109467.65\n",
      "[INFO] 2025-04-12 22:32:35,666 - pytimeloop.accelergy_interface - Running Accelergy with command: accelergy /home/workspace/final_project_v4/output_dir/parsed-processed-input.yaml -o ./output_dir/ -v\n"
     ]
    },
    {
     "name": "stderr",
     "output_type": "stream",
     "text": [
      "INFO:pytimeloop.accelergy_interface:Running Accelergy with command: accelergy /home/workspace/final_project_v4/output_dir/parsed-processed-input.yaml -o ./output_dir/ -v\n"
     ]
    },
    {
     "name": "stdout",
     "output_type": "stream",
     "text": [
      "Density Weights: 0.4, Density Inputs: 0.8\n",
      "Compute Utilization: 100.0, Computes/Cycle: 799.9816898722106, fJ/Algorithmic-Compute: 29921.59, fJ/Compute: 93504.9\n",
      "[INFO] 2025-04-12 22:32:38,795 - pytimeloop.accelergy_interface - Running Accelergy with command: accelergy /home/workspace/final_project_v4/output_dir/parsed-processed-input.yaml -o ./output_dir/ -v\n"
     ]
    },
    {
     "name": "stderr",
     "output_type": "stream",
     "text": [
      "INFO:pytimeloop.accelergy_interface:Running Accelergy with command: accelergy /home/workspace/final_project_v4/output_dir/parsed-processed-input.yaml -o ./output_dir/ -v\n"
     ]
    },
    {
     "name": "stdout",
     "output_type": "stream",
     "text": [
      "Density Weights: 0.4, Density Inputs: 1.0\n",
      "Compute Utilization: 99.99, Computes/Cycle: 639.9609398840403, fJ/Algorithmic-Compute: 33570.79, fJ/Compute: 83926.96\n",
      "[INFO] 2025-04-12 22:32:41,914 - pytimeloop.accelergy_interface - Running Accelergy with command: accelergy /home/workspace/final_project_v4/output_dir/parsed-processed-input.yaml -o ./output_dir/ -v\n"
     ]
    },
    {
     "name": "stderr",
     "output_type": "stream",
     "text": [
      "INFO:pytimeloop.accelergy_interface:Running Accelergy with command: accelergy /home/workspace/final_project_v4/output_dir/parsed-processed-input.yaml -o ./output_dir/ -v\n"
     ]
    },
    {
     "name": "stdout",
     "output_type": "stream",
     "text": [
      "Density Weights: 0.6000000000000001, Density Inputs: 0.2\n",
      "Compute Utilization: 99.95, Computes/Cycle: 2132.3355363497712, fJ/Algorithmic-Compute: 19026.8, fJ/Compute: 158556.5\n",
      "[INFO] 2025-04-12 22:32:45,096 - pytimeloop.accelergy_interface - Running Accelergy with command: accelergy /home/workspace/final_project_v4/output_dir/parsed-processed-input.yaml -o ./output_dir/ -v\n"
     ]
    },
    {
     "name": "stderr",
     "output_type": "stream",
     "text": [
      "INFO:pytimeloop.accelergy_interface:Running Accelergy with command: accelergy /home/workspace/final_project_v4/output_dir/parsed-processed-input.yaml -o ./output_dir/ -v\n"
     ]
    },
    {
     "name": "stdout",
     "output_type": "stream",
     "text": [
      "Density Weights: 0.6000000000000001, Density Inputs: 0.4\n",
      "Compute Utilization: 99.98, Computes/Cycle: 1066.4388507500635, fJ/Algorithmic-Compute: 22716.59, fJ/Compute: 94652.38\n",
      "[INFO] 2025-04-12 22:32:48,233 - pytimeloop.accelergy_interface - Running Accelergy with command: accelergy /home/workspace/final_project_v4/output_dir/parsed-processed-input.yaml -o ./output_dir/ -v\n"
     ]
    },
    {
     "name": "stderr",
     "output_type": "stream",
     "text": [
      "INFO:pytimeloop.accelergy_interface:Running Accelergy with command: accelergy /home/workspace/final_project_v4/output_dir/parsed-processed-input.yaml -o ./output_dir/ -v\n"
     ]
    },
    {
     "name": "stdout",
     "output_type": "stream",
     "text": [
      "Density Weights: 0.6000000000000001, Density Inputs: 0.6000000000000001\n",
      "Compute Utilization: 99.99, Computes/Cycle: 711.0194948296321, fJ/Algorithmic-Compute: 26406.39, fJ/Compute: 73351.06\n",
      "[INFO] 2025-04-12 22:32:51,374 - pytimeloop.accelergy_interface - Running Accelergy with command: accelergy /home/workspace/final_project_v4/output_dir/parsed-processed-input.yaml -o ./output_dir/ -v\n"
     ]
    },
    {
     "name": "stderr",
     "output_type": "stream",
     "text": [
      "INFO:pytimeloop.accelergy_interface:Running Accelergy with command: accelergy /home/workspace/final_project_v4/output_dir/parsed-processed-input.yaml -o ./output_dir/ -v\n"
     ]
    },
    {
     "name": "stdout",
     "output_type": "stream",
     "text": [
      "Density Weights: 0.6000000000000001, Density Inputs: 0.8\n",
      "Compute Utilization: 99.99, Computes/Cycle: 533.2872218690401, fJ/Algorithmic-Compute: 30096.21, fJ/Compute: 62700.39\n",
      "[INFO] 2025-04-12 22:32:54,484 - pytimeloop.accelergy_interface - Running Accelergy with command: accelergy /home/workspace/final_project_v4/output_dir/parsed-processed-input.yaml -o ./output_dir/ -v\n"
     ]
    },
    {
     "name": "stderr",
     "output_type": "stream",
     "text": [
      "INFO:pytimeloop.accelergy_interface:Running Accelergy with command: accelergy /home/workspace/final_project_v4/output_dir/parsed-processed-input.yaml -o ./output_dir/ -v\n"
     ]
    },
    {
     "name": "stdout",
     "output_type": "stream",
     "text": [
      "Density Weights: 0.6000000000000001, Density Inputs: 1.0\n",
      "Compute Utilization: 99.99, Computes/Cycle: 426.6406265893602, fJ/Algorithmic-Compute: 33785.86, fJ/Compute: 56309.76\n",
      "[INFO] 2025-04-12 22:32:57,659 - pytimeloop.accelergy_interface - Running Accelergy with command: accelergy /home/workspace/final_project_v4/output_dir/parsed-processed-input.yaml -o ./output_dir/ -v\n"
     ]
    },
    {
     "name": "stderr",
     "output_type": "stream",
     "text": [
      "INFO:pytimeloop.accelergy_interface:Running Accelergy with command: accelergy /home/workspace/final_project_v4/output_dir/parsed-processed-input.yaml -o ./output_dir/ -v\n"
     ]
    },
    {
     "name": "stdout",
     "output_type": "stream",
     "text": [
      "Density Weights: 0.8, Density Inputs: 0.2\n",
      "Compute Utilization: 99.98, Computes/Cycle: 1599.6582761250954, fJ/Algorithmic-Compute: 19079.86, fJ/Compute: 119249.06\n",
      "[INFO] 2025-04-12 22:33:00,802 - pytimeloop.accelergy_interface - Running Accelergy with command: accelergy /home/workspace/final_project_v4/output_dir/parsed-processed-input.yaml -o ./output_dir/ -v\n"
     ]
    },
    {
     "name": "stderr",
     "output_type": "stream",
     "text": [
      "INFO:pytimeloop.accelergy_interface:Running Accelergy with command: accelergy /home/workspace/final_project_v4/output_dir/parsed-processed-input.yaml -o ./output_dir/ -v\n"
     ]
    },
    {
     "name": "stdout",
     "output_type": "stream",
     "text": [
      "Density Weights: 0.8, Density Inputs: 0.4\n",
      "Compute Utilization: 100.0, Computes/Cycle: 799.9816898722106, fJ/Algorithmic-Compute: 22810.13, fJ/Compute: 71281.6\n",
      "[INFO] 2025-04-12 22:33:03,928 - pytimeloop.accelergy_interface - Running Accelergy with command: accelergy /home/workspace/final_project_v4/output_dir/parsed-processed-input.yaml -o ./output_dir/ -v\n"
     ]
    },
    {
     "name": "stderr",
     "output_type": "stream",
     "text": [
      "INFO:pytimeloop.accelergy_interface:Running Accelergy with command: accelergy /home/workspace/final_project_v4/output_dir/parsed-processed-input.yaml -o ./output_dir/ -v\n"
     ]
    },
    {
     "name": "stdout",
     "output_type": "stream",
     "text": [
      "Density Weights: 0.8, Density Inputs: 0.6000000000000001\n",
      "Compute Utilization: 99.99, Computes/Cycle: 533.2872218690401, fJ/Algorithmic-Compute: 26540.41, fJ/Compute: 55292.5\n",
      "[INFO] 2025-04-12 22:33:07,040 - pytimeloop.accelergy_interface - Running Accelergy with command: accelergy /home/workspace/final_project_v4/output_dir/parsed-processed-input.yaml -o ./output_dir/ -v\n"
     ]
    },
    {
     "name": "stderr",
     "output_type": "stream",
     "text": [
      "INFO:pytimeloop.accelergy_interface:Running Accelergy with command: accelergy /home/workspace/final_project_v4/output_dir/parsed-processed-input.yaml -o ./output_dir/ -v\n"
     ]
    },
    {
     "name": "stdout",
     "output_type": "stream",
     "text": [
      "Density Weights: 0.8, Density Inputs: 0.8\n",
      "Compute Utilization: 100.0, Computes/Cycle: 399.9908449361053, fJ/Algorithmic-Compute: 30270.68, fJ/Compute: 47297.92\n",
      "[INFO] 2025-04-12 22:33:10,174 - pytimeloop.accelergy_interface - Running Accelergy with command: accelergy /home/workspace/final_project_v4/output_dir/parsed-processed-input.yaml -o ./output_dir/ -v\n"
     ]
    },
    {
     "name": "stderr",
     "output_type": "stream",
     "text": [
      "INFO:pytimeloop.accelergy_interface:Running Accelergy with command: accelergy /home/workspace/final_project_v4/output_dir/parsed-processed-input.yaml -o ./output_dir/ -v\n"
     ]
    },
    {
     "name": "stdout",
     "output_type": "stream",
     "text": [
      "Density Weights: 0.8, Density Inputs: 1.0\n",
      "Compute Utilization: 99.99, Computes/Cycle: 319.98046994202014, fJ/Algorithmic-Compute: 34000.81, fJ/Compute: 42501.0\n",
      "[INFO] 2025-04-12 22:33:13,344 - pytimeloop.accelergy_interface - Running Accelergy with command: accelergy /home/workspace/final_project_v4/output_dir/parsed-processed-input.yaml -o ./output_dir/ -v\n"
     ]
    },
    {
     "name": "stderr",
     "output_type": "stream",
     "text": [
      "INFO:pytimeloop.accelergy_interface:Running Accelergy with command: accelergy /home/workspace/final_project_v4/output_dir/parsed-processed-input.yaml -o ./output_dir/ -v\n"
     ]
    },
    {
     "name": "stdout",
     "output_type": "stream",
     "text": [
      "Density Weights: 1.0, Density Inputs: 0.2\n",
      "Compute Utilization: 99.99, Computes/Cycle: 1279.9218797680805, fJ/Algorithmic-Compute: 19132.93, fJ/Compute: 95664.65\n",
      "[INFO] 2025-04-12 22:33:16,481 - pytimeloop.accelergy_interface - Running Accelergy with command: accelergy /home/workspace/final_project_v4/output_dir/parsed-processed-input.yaml -o ./output_dir/ -v\n"
     ]
    },
    {
     "name": "stderr",
     "output_type": "stream",
     "text": [
      "INFO:pytimeloop.accelergy_interface:Running Accelergy with command: accelergy /home/workspace/final_project_v4/output_dir/parsed-processed-input.yaml -o ./output_dir/ -v\n"
     ]
    },
    {
     "name": "stdout",
     "output_type": "stream",
     "text": [
      "Density Weights: 1.0, Density Inputs: 0.4\n",
      "Compute Utilization: 99.99, Computes/Cycle: 639.9609398840403, fJ/Algorithmic-Compute: 22903.68, fJ/Compute: 57259.18\n",
      "[INFO] 2025-04-12 22:33:19,609 - pytimeloop.accelergy_interface - Running Accelergy with command: accelergy /home/workspace/final_project_v4/output_dir/parsed-processed-input.yaml -o ./output_dir/ -v\n"
     ]
    },
    {
     "name": "stderr",
     "output_type": "stream",
     "text": [
      "INFO:pytimeloop.accelergy_interface:Running Accelergy with command: accelergy /home/workspace/final_project_v4/output_dir/parsed-processed-input.yaml -o ./output_dir/ -v\n"
     ]
    },
    {
     "name": "stdout",
     "output_type": "stream",
     "text": [
      "Density Weights: 1.0, Density Inputs: 0.6000000000000001\n",
      "Compute Utilization: 99.99, Computes/Cycle: 426.6406265893602, fJ/Algorithmic-Compute: 26674.42, fJ/Compute: 44457.36\n",
      "[INFO] 2025-04-12 22:33:22,755 - pytimeloop.accelergy_interface - Running Accelergy with command: accelergy /home/workspace/final_project_v4/output_dir/parsed-processed-input.yaml -o ./output_dir/ -v\n"
     ]
    },
    {
     "name": "stderr",
     "output_type": "stream",
     "text": [
      "INFO:pytimeloop.accelergy_interface:Running Accelergy with command: accelergy /home/workspace/final_project_v4/output_dir/parsed-processed-input.yaml -o ./output_dir/ -v\n"
     ]
    },
    {
     "name": "stdout",
     "output_type": "stream",
     "text": [
      "Density Weights: 1.0, Density Inputs: 0.8\n",
      "Compute Utilization: 99.99, Computes/Cycle: 319.98046994202014, fJ/Algorithmic-Compute: 30445.17, fJ/Compute: 38056.45\n",
      "[INFO] 2025-04-12 22:33:25,933 - pytimeloop.accelergy_interface - Running Accelergy with command: accelergy /home/workspace/final_project_v4/output_dir/parsed-processed-input.yaml -o ./output_dir/ -v\n"
     ]
    },
    {
     "name": "stderr",
     "output_type": "stream",
     "text": [
      "INFO:pytimeloop.accelergy_interface:Running Accelergy with command: accelergy /home/workspace/final_project_v4/output_dir/parsed-processed-input.yaml -o ./output_dir/ -v\n"
     ]
    },
    {
     "name": "stdout",
     "output_type": "stream",
     "text": [
      "Density Weights: 1.0, Density Inputs: 1.0\n",
      "Compute Utilization: 100.0, Computes/Cycle: 256.0, fJ/Algorithmic-Compute: 34215.75, fJ/Compute: 34215.75\n"
     ]
    }
   ],
   "source": [
    "import numpy as np\n",
    "\n",
    "\n",
    "density_vals = np.linspace(0.2, 1, 5)\n",
    "metric_names = [\n",
    "    \"Computes per Cycle\",\n",
    "    \"Compute Utilization\",\n",
    "    \"fJ per Algorithmic Compute\",\n",
    "    \"fJ per Compute\"\n",
    "]\n",
    "\n",
    "heatmaps = {name: np.zeros((len(density_vals), len(density_vals))) for name in metric_names}\n",
    "\n",
    "for i, density_weights in enumerate(density_vals): \n",
    "    for j, density_inputs in enumerate(density_vals): \n",
    "        out = run_timeloop_model(\n",
    "            problem='L07_problem.yaml',\n",
    "            mapping='L07_mapping.yaml',\n",
    "            sparse_optimizations='L07_sparse_opt.yaml', \n",
    "            density_weights=density_weights, \n",
    "            density_inputs=density_inputs\n",
    "        )\n",
    "\n",
    "        computes_per_cycle = out.computes / out.cycles\n",
    "        compute_utilization = out.percent_utilization\n",
    "    \n",
    "        stats = open('./output_dir/timeloop-model.stats.txt', 'r').read()\n",
    "        fj_algo, fj_compute = None, None\n",
    "        found_algo, found_compute = False, False\n",
    "        for line in stats.split('\\n'):\n",
    "            if 'fJ/Algorithmic-Compute' in line:\n",
    "                found_algo = True\n",
    "            if 'fJ/Compute' in line:\n",
    "                found_compute = True\n",
    "            if found_algo and 'Total' in line and fj_algo is None:\n",
    "                fj_algo = float(line.split('=')[-1].strip())\n",
    "            if found_compute and 'Total' in line and fj_compute is None:\n",
    "                fj_compute = float(line.split('=')[-1].strip())\n",
    "\n",
    "    \n",
    "        print(f'Density Weights: {density_weights}, Density Inputs: {density_inputs}')\n",
    "        print(f'Compute Utilization: {compute_utilization}, Computes/Cycle: {computes_per_cycle}, fJ/Algorithmic-Compute: {fj_algo}, fJ/Compute: {fj_compute}')\n",
    "\n",
    "        heatmaps[\"Computes per Cycle\"][i, j] = computes_per_cycle\n",
    "        heatmaps[\"Compute Utilization\"][i, j] = compute_utilization\n",
    "        heatmaps[\"fJ per Algorithmic Compute\"][i, j] = fj_algo\n",
    "        heatmaps[\"fJ per Compute\"][i, j] = fj_compute\n"
   ]
  },
  {
   "cell_type": "code",
   "execution_count": 27,
   "id": "90108fcd-d96a-42b4-8f77-5cf985a212eb",
   "metadata": {},
   "outputs": [
    {
     "data": {
      "image/png": "[encoded data removed]",
      "text/plain": [
       "<Figure size 800x600 with 2 Axes>"
      ]
     },
     "metadata": {},
     "output_type": "display_data"
    },
    {
     "data": {
      "image/png": "[encoded data removed]",
      "text/plain": [
       "<Figure size 800x600 with 2 Axes>"
      ]
     },
     "metadata": {},
     "output_type": "display_data"
    },
    {
     "data": {
      "image/png": "[encoded data removed]",
      "text/plain": [
       "<Figure size 800x600 with 2 Axes>"
      ]
     },
     "metadata": {},
     "output_type": "display_data"
    },
    {
     "data": {
      "image/png": "[encoded data removed]",
      "text/plain": [
       "<Figure size 800x600 with 2 Axes>"
      ]
     },
     "metadata": {},
     "output_type": "display_data"
    }
   ],
   "source": [
    "import matplotlib.pyplot as plt\n",
    "\n",
    "for metric, heatmap in heatmaps.items():\n",
    "    plt.figure(figsize=(8, 6))\n",
    "    im = plt.imshow(heatmap, origin='lower', cmap='viridis',\n",
    "                    extent=[density_vals[0], density_vals[-1], density_vals[0], density_vals[-1]])\n",
    "    plt.colorbar(im, label=metric)\n",
    "    plt.xlabel('Density of Inputs')\n",
    "    plt.ylabel('Density of Weights')\n",
    "    plt.title(f'{metric} Heatmap')\n",
    "    plt.xticks(density_vals)\n",
    "    plt.yticks(density_vals)\n",
    "    plt.grid(False)\n",
    "    plt.tight_layout()\n",
    "    plt.show()"
   ]
  },
  {
   "cell_type": "code",
   "execution_count": null,
   "id": "58da1137-0dad-4d5a-a514-bb9786fa2f91",
   "metadata": {},
   "outputs": [],
   "source": []
  }
 ],
 "metadata": {
  "kernelspec": {
   "display_name": "Python 3 (ipykernel)",
   "language": "python",
   "name": "python3"
  },
  "language_info": {
   "codemirror_mode": {
    "name": "ipython",
    "version": 3
   },
   "file_extension": ".py",
   "mimetype": "text/x-python",
   "name": "python",
   "nbconvert_exporter": "python",
   "pygments_lexer": "ipython3",
   "version": "3.10.12"
  }
 },
 "nbformat": 4,
 "nbformat_minor": 5
}
