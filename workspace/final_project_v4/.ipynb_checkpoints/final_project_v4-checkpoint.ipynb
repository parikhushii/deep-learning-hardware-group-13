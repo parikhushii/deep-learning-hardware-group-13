{
 "cells": [
  {
   "cell_type": "code",
   "execution_count": 1,
   "id": "0f77928a-de22-48f2-8160-09ceaab41d16",
   "metadata": {},
   "outputs": [],
   "source": [
    "import pandas as pd\n",
    "import numpy as np\n",
    "from loaders import *"
   ]
  },
  {
   "cell_type": "markdown",
   "id": "a4d60dff-65a6-4d4a-8503-7f66f24e65ae",
   "metadata": {},
   "source": [
    "Changes made:\n",
    "1. Switched MAC from being Imac to Fmac becuase of error message about \"cannot find energy estimator\"\n",
    "2. Created 1 glb instead of 2, one for psum (expected depth: 1920) and one iacts (expected depth: 1536)."
   ]
  },
  {
   "cell_type": "code",
   "execution_count": null,
   "id": "3e9d0431-0fcc-4c13-bf83-e17d84338fd5",
   "metadata": {
    "scrolled": true
   },
   "outputs": [],
   "source": [
    "print(\"run_timeloop_model: \", run_timeloop_model)\n",
    "run_timeloop_model(\n",
    "    # constraints='part6/constraints_global.yaml',\n",
    "    problem='L07_problem.yaml',\n",
    "    mapping='L07_mapping.yaml',\n",
    ")\n",
    "stats = open('./output_dir/timeloop-model.stats.txt', 'r').read()\n",
    "print(stats)"
   ]
  },
  {
   "cell_type": "code",
   "execution_count": null,
   "id": "a0c1162e-4e08-4417-85d5-441d8305ad5b",
   "metadata": {},
   "outputs": [],
   "source": []
  }
 ],
 "metadata": {
  "kernelspec": {
   "display_name": "Python 3 (ipykernel)",
   "language": "python",
   "name": "python3"
  },
  "language_info": {
   "codemirror_mode": {
    "name": "ipython",
    "version": 3
   },
   "file_extension": ".py",
   "mimetype": "text/x-python",
   "name": "python",
   "nbconvert_exporter": "python",
   "pygments_lexer": "ipython3",
   "version": "3.10.12"
  }
 },
 "nbformat": 4,
 "nbformat_minor": 5
}
