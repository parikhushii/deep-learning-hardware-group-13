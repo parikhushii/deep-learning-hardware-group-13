{
 "cells": [
  {
   "cell_type": "code",
   "execution_count": 1,
   "id": "d3bc8ffe-ff8e-4c78-9d31-6e9ed6fbb728",
   "metadata": {},
   "outputs": [],
   "source": [
    "from loaders import * "
   ]
  },
  {
   "cell_type": "code",
   "execution_count": 41,
   "id": "d80a1c96-82a1-4648-9b26-b536cd0cc426",
   "metadata": {},
   "outputs": [
    {
     "name": "stdout",
     "output_type": "stream",
     "text": [
      "[INFO] 2025-04-05 20:46:08,108 - pytimeloop.accelergy_interface - Running Accelergy with command: accelergy /home/workspace/lab3/output_dir/parsed-processed-input.yaml -o ./output_dir/ -v\n"
     ]
    },
    {
     "name": "stderr",
     "output_type": "stream",
     "text": [
      "INFO:pytimeloop.accelergy_interface:Running Accelergy with command: accelergy /home/workspace/lab3/output_dir/parsed-processed-input.yaml -o ./output_dir/ -v\n"
     ]
    }
   ],
   "source": [
    "results = run_timeloop_model(\n",
    "    architecture='designs/eyeriss_v2/arch.yaml',\n",
    "    mapping='designs/eyeriss_v2/map.yaml',\n",
    "    problem='designs/eyeriss_v2/problem.yaml'\n",
    ")"
   ]
  },
  {
   "cell_type": "code",
   "execution_count": null,
   "id": "999ecaa8-a318-49f1-9743-674768017b51",
   "metadata": {},
   "outputs": [],
   "source": []
  }
 ],
 "metadata": {
  "kernelspec": {
   "display_name": "Python 3 (ipykernel)",
   "language": "python",
   "name": "python3"
  },
  "language_info": {
   "codemirror_mode": {
    "name": "ipython",
    "version": 3
   },
   "file_extension": ".py",
   "mimetype": "text/x-python",
   "name": "python",
   "nbconvert_exporter": "python",
   "pygments_lexer": "ipython3",
   "version": "3.10.12"
  }
 },
 "nbformat": 4,
 "nbformat_minor": 5
}
