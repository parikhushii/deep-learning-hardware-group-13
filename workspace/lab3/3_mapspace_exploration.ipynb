{
 "cells": [
  {
   "cell_type": "markdown",
   "id": "7fe87da6-6a08-48eb-8a17-88ec91a002e3",
   "metadata": {},
   "source": [
    "## Part 3: Mapspace Exploration with Timeloop\n",
    "\n",
    "We start with the same architecture and mapping as in Part 2.\n",
    "\n",
    "<br>\n",
    "<div class=\"row\">\n",
    "  <div class=\"column\">\n",
    "    <img align=\"left\" src=\"designs/system/figures/arch.png\" alt=\"Full System  Architecture Diagram\" style=\"margin:50px 0px 0px 50px; width:40%\">\n",
    "  </div>\n",
    "  <div class=\"column\">\n",
    "    <img  align=\"left\"  src=\"designs/system/figures/loopnest.png\" alt=\"System Loopnest\" style=\"width:50%\">\n",
    "  </div>\n",
    "</div>"
   ]
  },
  {
   "cell_type": "markdown",
   "id": "96c7c513-7ac2-4fb1-970f-bf751a564c62",
   "metadata": {},
   "source": [
    "### Question 1\n",
    "In this question, we would like you to find the best architecture and associated mapping that has the highest throughput (minimizes the number of cycles) for `layer_shapes/conv2.yaml`. If two architectures result in the same throughput, choose the one that's less energy consuming.\n",
    "\n",
    "First, inspect the mapping file below and see what double-curly-brace-enclosed parameters are available to set."
   ]
  },
  {
   "cell_type": "code",
   "execution_count": null,
   "id": "c3b4642f-496f-456b-b999-d2d1b0d0073b",
   "metadata": {},
   "outputs": [],
   "source": [
    "import pandas as pd\n",
    "import numpy as np\n",
    "import matplotlib.pyplot as plt\n",
    "from loaders import *\n",
    "show_config('designs/system/map.yaml')"
   ]
  },
  {
   "cell_type": "markdown",
   "id": "8bf3bb84-e545-40ae-af99-eacc2c270053",
   "metadata": {},
   "source": [
    "Now, optimize these mappings for a 1x16-PE, 2x8-PE, and 4x4-PE architecture by setting the variables below. To simplify the mapspace, most variables\n",
    "are set and not able to change. The following constraints are required (and can not be changed by the below variables):\n",
    "\n",
    "- The mapping agrees with the loop nest provided in the image above.\n",
    "- Input channels can only be spatially mapped to the rows of the PE array and output channels can only be spatially mapped to the columns of the PE array.\n",
    "- PE scrachpads only store filter weights.\n",
    "\n",
    "After optimizing these mappings, please fill out the table below with the energy and delay of each mapping. An example setting is shown below.\n",
    "\n",
    "**For full credit, all of your optimized mappings must be below 400 uJ and 4,000,000 cycles. Furthermore, at least one mapping must be below 275 uJ.**"
   ]
  },
  {
   "cell_type": "code",
   "execution_count": null,
   "id": "6f907832-5323-4832-8a2b-13b6059a103b",
   "metadata": {},
   "outputs": [],
   "source": [
    "config_example = dict( # Do not change this configuration!\n",
    "    DRAM_factor_N=50,\n",
    "    DRAM_factor_M=8,\n",
    "    DRAM_factor_C=4,\n",
    "    global_buffer_factor_N=1,\n",
    "    global_buffer_factor_M=1,\n",
    "    global_buffer_factor_C=1,\n",
    "    PE_spatial_factor_M=1,\n",
    "    PE_spatial_factor_C=1,\n",
    "    scratchpad_factor_N=1,\n",
    ")\n",
    "\n",
    "config_optimized_1x16 = dict( # Replace these with your optimized values\n",
    "\t DRAM_factor_N=50,\n",
    "     DRAM_factor_M=8,\n",
    "     DRAM_factor_C=4,\n",
    "     global_buffer_factor_N=1,\n",
    "     global_buffer_factor_M=1,\n",
    "     global_buffer_factor_C=1,\n",
    "     PE_spatial_factor_M=1,\n",
    "     PE_spatial_factor_C=1,\n",
    "     scratchpad_factor_N=1,\n",
    "########################\n",
    "#### YOUR CODE HERE ####\n",
    "########################\n",
    ")\n",
    "\n",
    "config_optimized_2x8 = dict( # Replace these with your optimized values\n",
    "\t DRAM_factor_N=50,\n",
    "     DRAM_factor_M=8,\n",
    "     DRAM_factor_C=4,\n",
    "     global_buffer_factor_N=1,\n",
    "     global_buffer_factor_M=1,\n",
    "     global_buffer_factor_C=1,\n",
    "     PE_spatial_factor_M=1,\n",
    "     PE_spatial_factor_C=1,\n",
    "     scratchpad_factor_N=1,\n",
    "########################\n",
    "#### YOUR CODE HERE ####\n",
    "########################\n",
    ")\n",
    "\n",
    "config_optimized_4x4 = dict( # Replace these with your optimized values\n",
    "\t DRAM_factor_N=50,\n",
    "     DRAM_factor_M=8,\n",
    "     DRAM_factor_C=4,\n",
    "     global_buffer_factor_N=1,\n",
    "     global_buffer_factor_M=1,\n",
    "     global_buffer_factor_C=1,\n",
    "     PE_spatial_factor_M=1,\n",
    "     PE_spatial_factor_C=1,\n",
    "     scratchpad_factor_N=1,\n",
    "########################\n",
    "#### YOUR CODE HERE ####\n",
    "########################\n",
    ")"
   ]
  },
  {
   "cell_type": "code",
   "execution_count": null,
   "id": "f24db2b0-1182-40b1-b84f-705c5655e39d",
   "metadata": {},
   "outputs": [],
   "source": [
    "configs = {\n",
    "    'Example 1x16': {**config_example, \"pe_meshX\": 1, \"pe_meshY\": 16},\n",
    "    'Example 2x8': {**config_example, \"pe_meshX\": 2, \"pe_meshY\": 8},\n",
    "    'Example 4x4': {**config_example, \"pe_meshX\": 4, \"pe_meshY\": 4},\n",
    "    'Optimized 1x16': {**config_optimized_1x16, \"pe_meshX\": 1, \"pe_meshY\": 16},\n",
    "    'Optimized 2x8': {**config_optimized_2x8, \"pe_meshX\": 2, \"pe_meshY\": 8},\n",
    "    'Optimized 4x4': {**config_optimized_4x4, \"pe_meshX\": 4, \"pe_meshY\": 4},\n",
    "}\n",
    "\n",
    "# Set to None to run all configurations. FOR YOUR FINAL SUBMISSION, MAKE SURE YOU RUN ALL CONFIGURATIONS.\n",
    "CONFIG_TO_RUN = None # 'Optimized 4x4'\n",
    "\n",
    "to_run = list(configs.keys()) if CONFIG_TO_RUN is None else [CONFIG_TO_RUN]\n",
    "\n",
    "# DO NOT CHANGE\n",
    "THRES = [(float('inf'), float('inf')),\n",
    "         (float('inf'), float('inf')),\n",
    "         (float('inf'), float('inf')),\n",
    "         (4_000_000, 400),\n",
    "         (4_000_000, 400),\n",
    "         (4_000_000, 400)]\n",
    "\n",
    "min_energy = float('inf')\n",
    "for i, k in enumerate(to_run):\n",
    "    cycle_thres, energy_thres = THRES[i]\n",
    "    result = run_timeloop_model(\n",
    "        configs[k],\n",
    "        architecture='designs/system/arch.yaml',\n",
    "        mapping='designs/system/map.yaml',\n",
    "        problem='layer_shapes/conv2.yaml'\n",
    "    )\n",
    "    stats = open('./output_dir/timeloop-model.stats.txt', 'r').read()\n",
    "    mapping = result.mapping\n",
    "    if len(to_run) == 1:\n",
    "        print(stats)\n",
    "\n",
    "    lines = stats.split('\\n')\n",
    "    energy = float([l for l in lines if 'Energy:' in l][0].split(' ', 2)[1])\n",
    "    cycles = int([l for l in lines if 'Cycles:' in l][0].split(' ', 1)[1])\n",
    "    min_energy = min(min_energy, energy)\n",
    "\n",
    "    if i < 3:\n",
    "        print(f'{k} --- Latency: {cycles} cycles; Energy: {energy} uJ.')\n",
    "    else:\n",
    "        answer( # Don't change this\n",
    "            question='3.1',\n",
    "            subquestion=f'{k} --- Latency: {cycles} cycles; Energy: {energy} uJ. Passing?',\n",
    "            answer=cycles < cycle_thres and energy < energy_thres,\n",
    "            required_type=bool\n",
    "        )\n",
    "    print('')\n",
    "\n",
    "answer( # Don't change this\n",
    "    question='3.1',\n",
    "    subquestion=f'Minimum energy achieved: {min_energy} uJ. Passing?',\n",
    "    answer=min_energy < 275,\n",
    "    required_type=bool\n",
    ")"
   ]
  },
  {
   "cell_type": "markdown",
   "id": "8f3483c4-9d91-4abe-9221-5703365a30cb",
   "metadata": {},
   "source": [
    "### Question 2\n",
    "Manually generating the best mapping for each architecture and layer shape is rather time-consuming, even if the search is performed under a tightly constrained map sapace, *e.g.,* the one in question 2.2. Therefore, Timeloop provides automatic mapspace search functinality when appropriate map space constriants are given.\n",
    "\n",
    "To perform an automatic mapspace search, you need to provide mapspace constraints as an input. Mapspace constraints specify the limitations imposed by your dataflow or hardware structures. They include the same directives as the mapping, except they are an *incomplete* description of the mapping, and they allow the mapper to optimize over all unspecified parts. An example mapspace constraint is shown below (`designs/system/constraints.yaml`). To automatically search the mapspace with the constraints file, you should run the `run_timeloop_mapper` command.\n",
    "\n",
    "*The search should take less than 5 minutes to finish. If you are running the command from the shell instead of running the below cell, you can also terminate it whenever you want by pressing Ctrl+C (you will need to wait for Timeloop to finish the remainig computations after you send the signal; the terminated threads will have a dash next to its id).*"
   ]
  },
  {
   "cell_type": "code",
   "execution_count": null,
   "id": "87479b55-1a80-4c27-8f37-4026ad35439b",
   "metadata": {},
   "outputs": [],
   "source": [
    "show_config('designs/system/constraints.yaml')"
   ]
  },
  {
   "cell_type": "code",
   "execution_count": null,
   "id": "4d2a04eb-ae13-4dd0-a8a3-bf3e091c3755",
   "metadata": {},
   "outputs": [],
   "source": [
    "sys_1x16_result = run_timeloop_mapper(\n",
    "    {'pe_meshX': 1, 'pe_meshY': 16},\n",
    "    architecture='designs/system/arch.yaml',\n",
    "    problem='layer_shapes/conv2.yaml',\n",
    "    constraints='designs/system/constraints.yaml',\n",
    "    mapper='designs/_include/mapper.yaml'\n",
    ")\n",
    "\n",
    "sys_1x16_stats = open('./output_dir/timeloop-mapper.stats.txt', 'r').read()\n",
    "sys_1x16_mapping = sys_1x16_result.mapping\n",
    "\n",
    "# Stats for the best mapping found by the mapper.\n",
    "print(sys_1x16_result.cycles)"
   ]
  },
  {
   "cell_type": "code",
   "execution_count": null,
   "id": "d6ed2ad9-e551-499b-b695-fe9271dfa462",
   "metadata": {},
   "outputs": [],
   "source": [
    "lines = sys_1x16_stats.split('\\n')\n",
    "energy = float([l for l in lines if 'Energy:' in l][0].split(' ', 2)[1])\n",
    "cycles = int([l for l in lines if 'Cycles:' in l][0].split(' ', 1)[1])\n",
    "print(energy, cycles)"
   ]
  },
  {
   "cell_type": "code",
   "execution_count": null,
   "id": "eccd13f9-949d-4c63-8fc6-bb864c5228d9",
   "metadata": {},
   "outputs": [],
   "source": [
    "# Loop nest of the best mapping found by the mapper.\n",
    "print(sys_1x16_mapping)"
   ]
  },
  {
   "cell_type": "markdown",
   "id": "1d3314e6-f3c8-4601-887f-92d6a853bf3d",
   "metadata": {},
   "source": [
    "In this question, we have provided you with a much more relaxed constraint `designs/system/constraints_relaxed.yaml`. \n",
    "    \n",
    "Please examine the constraints, and list two additional relaxations on the mapspace constraints in `designs/system/constraints_relaxed.yaml` comparing to `designs/system/constraints.yaml` (*Note: there are more than two relaxations, but you only need to list two*)"
   ]
  },
  {
   "cell_type": "code",
   "execution_count": null,
   "id": "5de42bcb-dd65-4179-9571-2773eab1ad8d",
   "metadata": {},
   "outputs": [],
   "source": [
    "show_config('designs/system/constraints_relaxed.yaml')"
   ]
  },
  {
   "cell_type": "code",
   "execution_count": null,
   "id": "b0134068-fc76-4652-b72c-00b128f2039f",
   "metadata": {},
   "outputs": [],
   "source": [
    "answer(\n",
    "    question='3.2',\n",
    "    subquestion='List two hardware levels for which constraints have been relaxed. Answer as a Python list of strings (e.g., [\"PE\", \"DRAM\"]).',\n",
    "    answer= ['FILL ME', 'FILL ME'], # Answer here\n",
    "    required_type=[str, str]\n",
    ")"
   ]
  },
  {
   "cell_type": "markdown",
   "id": "d2a8645e-3145-4fc3-850b-9872ac0833df",
   "metadata": {},
   "source": [
    "Below, we run the mapper on all three architectures (1x16, 2x8, 4x4) on all three workloads (conv1, conv2, and fc1). For each workload, find the architecture that has the highest throughput by inspecting `all_stats`. If two architectures result in the same throughput, choose the one that's less energy consuming. Please fill in the chart below. "
   ]
  },
  {
   "cell_type": "code",
   "execution_count": null,
   "id": "da88d869-0454-4a00-8bc9-87ab275d0546",
   "metadata": {},
   "outputs": [],
   "source": [
    "workloads = {\n",
    "    'conv1': 'layer_shapes/conv1.yaml',\n",
    "    'conv2': 'layer_shapes/conv2.yaml',\n",
    "    'fc1': 'layer_shapes/fc1.yaml'\n",
    "}\n",
    "\n",
    "pe_array_shapes = [\n",
    "    (1, 16),\n",
    "    (2, 8),\n",
    "    (4, 4)\n",
    "]\n",
    "\n",
    "all_stats = {'conv1': {}, 'conv2': {}, 'fc1': {}}\n",
    "all_maps = {'conv1': {}, 'conv2': {}, 'fc1': {}}\n",
    "\n",
    "for name, workload in workloads.items():\n",
    "    print('')\n",
    "    for meshX, meshY in [(1, 16), (2, 8), (4, 4)]:\n",
    "        result = run_timeloop_mapper(\n",
    "            {'pe_meshX': meshX, 'pe_meshY': meshY},\n",
    "            architecture='designs/system/arch.yaml',\n",
    "            problem=workload,\n",
    "            constraints='designs/system/constraints_relaxed.yaml',\n",
    "            mapper='designs/_include/mapper.yaml',\n",
    "            pe_spatial_c_constraint=True, # An extra constraint to speed up the mapper for this example.\n",
    "        )\n",
    "        stats = open('./output_dir/timeloop-mapper.stats.txt', 'r').read()\n",
    "        mapping = result.mapping\n",
    "        all_stats[name][(meshX, meshY)] = stats\n",
    "        all_maps[name][(meshX, meshY)] = mapping\n",
    "        lines = stats.split('\\n')\n",
    "        energy = float([l for l in lines if 'Energy:' in l][0].split(' ', 2)[1])\n",
    "        cycles = int([l for l in lines if 'Cycles:' in l][0].split(' ', 1)[1])\n",
    "        \n",
    "        answer(\n",
    "            question='3.2',\n",
    "            subquestion=f'{meshX}x{meshY} cycles and energy (uJ) for {name}',\n",
    "            answer=[cycles, energy],\n",
    "            required_type=[int, Number]\n",
    "        )"
   ]
  },
  {
   "cell_type": "markdown",
   "id": "d2b2e521",
   "metadata": {},
   "source": [
    "Additionally, you will need to consider the workload shapes, which are printed below for your convenience:"
   ]
  },
  {
   "cell_type": "code",
   "execution_count": null,
   "id": "3217408b",
   "metadata": {},
   "outputs": [],
   "source": [
    "for workload, file in workloads.items():\n",
    "\tprint(f\"### {workload} ###\")\n",
    "\tprint(open(file, 'r').read())"
   ]
  },
  {
   "cell_type": "code",
   "execution_count": null,
   "id": "ae7bb32d-8849-4410-b636-085ae54b7206",
   "metadata": {},
   "outputs": [],
   "source": [
    "answer(\n",
    "    question='3.2',\n",
    "    subquestion='(True/False) There is a PE array shape that achieves fewer cycles and energy compared to other array shapes for conv1.',\n",
    "    answer= 'FILL ME',\n",
    "    required_type=bool\n",
    ")\n",
    "answer(\n",
    "    question='3.2',\n",
    "    subquestion='Given the array shapes (1x16, 2x8, and 4x4) and the workload shape of conv1, what is the maximum PE array utilization for each array shape? Answer as a list, e.g., [0.25, 0.5, 1].',\n",
    "    answer= ['FILL ME', 'FILL ME', 'FILL ME'], # Answer here\n",
    "    required_type=[Number, Number, Number]\n",
    ")\n",
    "answer(\n",
    "    question='3.2',\n",
    "    subquestion='Best [architecture name, cycles, total energy (uJ)] for conv2. Please answer as a list, e.g., [\"2x8\", 3920000, 68.54].',\n",
    "    answer= ['FILL ME', 'FILL ME', 'FILL ME'], # Answer here\n",
    "    required_type=[('2x8', '1x16', '4x4'), int, Number]\n",
    ")\n",
    "answer(\n",
    "    question='3.2',\n",
    "    subquestion='Best [architecture name, cycles, total energy (uJ)] for fc1. Please answer as a list with 3 elements. Please answer as a list, e.g., [\"2x8\", 3920000, 68.54].',\n",
    "    answer= ['FILL ME', 'FILL ME', 'FILL ME'], # Answer here\n",
    "    required_type=[('2x8', '1x16', '4x4'), int, Number]\n",
    ")"
   ]
  },
  {
   "cell_type": "markdown",
   "id": "c3b68707-da13-4eb3-b0ea-b56e48a3e257",
   "metadata": {},
   "source": [
    "### Question 3\n",
    "Your circuit designer has told you that it is too expensive to have a separate architecture for each layer shape. You must now have a fixed architecture (i.e. fixed height and width of the PE array). Based on this specific architecture, you can change the mapping according to different layer shapes. \n",
    "\n",
    "What is the best architecture that achieves the **highest average throughput (1/cycles)** of those three layer shapes among all the architectures explored in question 1? Calculate throughput for each layer independently, then average (DO NOT calculate 1 / (sum cycles)). Please fill in the chart below using that architecture."
   ]
  },
  {
   "cell_type": "code",
   "execution_count": null,
   "id": "eaa2049c-fa85-4b9a-bb98-8bde7831c50b",
   "metadata": {},
   "outputs": [],
   "source": [
    "answer(\n",
    "    question='3.3',\n",
    "    subquestion='What is the best overall architecture for the three workloads?',\n",
    "    answer= 'FILL ME',\n",
    "    required_type=('1x16', '2x8', '4x4')\n",
    ")\n",
    "answer(\n",
    "    question='3.3',\n",
    "    subquestion='What are the [cycles, total energy (uJ)] for this architecture and conv1?',\n",
    "    answer= ['FILL ME', 'FILL ME'], # Answer here\n",
    "    required_type=[int, Number]\n",
    ")\n",
    "answer(\n",
    "    question='3.3',\n",
    "    subquestion='What are the [cycles, total energy (uJ)] for this architecture and conv2?',\n",
    "    answer= ['FILL ME', 'FILL ME'], # Answer here\n",
    "    required_type=[int, Number]\n",
    ")\n",
    "answer(\n",
    "    question='3.3',\n",
    "    subquestion='What are the [cycles, total energy (uJ)] for this architecture and fc1?',\n",
    "    answer= ['FILL ME', 'FILL ME'], # Answer here\n",
    "    required_type=[int, Number]\n",
    ")"
   ]
  }
 ],
 "metadata": {
  "kernelspec": {
   "display_name": "Python 3 (ipykernel)",
   "language": "python",
   "name": "python3"
  },
  "language_info": {
   "codemirror_mode": {
    "name": "ipython",
    "version": 3
   },
   "file_extension": ".py",
   "mimetype": "text/x-python",
   "name": "python",
   "nbconvert_exporter": "python",
   "pygments_lexer": "ipython3",
   "version": "3.11.2"
  }
 },
 "nbformat": 4,
 "nbformat_minor": 5
}
