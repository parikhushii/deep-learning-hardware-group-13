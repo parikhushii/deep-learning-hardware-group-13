{
 "cells": [
  {
   "cell_type": "markdown",
   "metadata": {},
   "source": [
    "# Lab 3\n",
    "\n",
    "In this lab, we will explore how to use different dataflows in our deep neural\n",
    "network accelerators."
   ]
  },
  {
   "cell_type": "code",
   "execution_count": null,
   "metadata": {},
   "outputs": [],
   "source": [
    "import pandas as pd\n",
    "from loaders import *\n",
    "\n",
    "answer(\n",
    "    question='1.0',\n",
    "    subquestion=f'What is your name?',\n",
    "    answer= 'FILL ME',\n",
    "    required_type=str,\n",
    ")\n",
    "answer(\n",
    "    question='1.0',\n",
    "    subquestion=f'What is your email address?',\n",
    "    answer= 'FILL ME',\n",
    "    required_type=str,\n",
    ")\n",
    "answer(\n",
    "    question='1.0',\n",
    "    subquestion=f'What is your kerberos?',\n",
    "    answer= 'FILL ME',\n",
    "    required_type=str,\n",
    ")"
   ]
  },
  {
   "cell_type": "markdown",
   "metadata": {},
   "source": [
    "## Part 1: Single PE Modeling\n",
    "\n",
    "We will start with a simple design consisting of a single PE as shown in the figure below. The PE contains a MAC unit to multiply-accumulate, and a scratchpad to store data locally for reuse. We also provide you with the loop nest for this single PE design in the figure below.\n",
    "\n",
    "**Note: Loop nest for the single PE includes both the scratchpad and the registers.**\n",
    "\n",
    "<br>\n",
    "<div class=\"row\">\n",
    "  <div class=\"column\">\n",
    "    <img align=\"left\" src=\"designs/singlePE/figures/arch.png\" alt=\"PE Architecture\" style=\"margin:100px 0px 30px 70px; width:35%\">\n",
    "  </div>\n",
    "  <div class=\"column\">\n",
    "    <img  align=\"left\"  src=\"designs/singlePE/figures/loopnest.png\" alt=\"PE Loopnest\" style=\"width:40%\">\n",
    "  </div>\n",
    "</div>"
   ]
  },
  {
   "cell_type": "markdown",
   "metadata": {},
   "source": [
    "### Question 1\n",
    "Assuming you cannot reorder the provided loop nest, if you can only store one datatype (datatypes inlcude *filter weights, input activations, output activations*) inside the PE scratchpad to maximize data reuse inside the PE, which datatype will you choose? In a sentence in the assumptions field, explain why."
   ]
  },
  {
   "cell_type": "code",
   "execution_count": null,
   "metadata": {},
   "outputs": [],
   "source": [
    "answer(\n",
    "    question='1.1',\n",
    "    subquestion='Which datatype maximizes data reuse?',\n",
    "    answer= 'FILL ME',\n",
    "    required_type=('filter weights', 'input activations', 'output activations'), \n",
    "    assumptions=[] # Put a list of strings as assumptions, if any.\n",
    ")"
   ]
  },
  {
   "cell_type": "markdown",
   "metadata": {},
   "source": [
    "### Question 2\n",
    "Take a look at the `designs/singlePE/arch.yaml` config file printed by the code box below. This file describes the hardware structure of the architecture. Please fill in the statements below. When filling in the statements, please treat the registers as one memory level."
   ]
  },
  {
   "cell_type": "code",
   "execution_count": null,
   "metadata": {},
   "outputs": [],
   "source": [
    "show_config('designs/singlePE/arch.yaml')"
   ]
  },
  {
   "cell_type": "code",
   "execution_count": null,
   "metadata": {
    "pycharm": {
     "is_executing": false
    }
   },
   "outputs": [],
   "source": [
    "answer(\n",
    "    question='1.2.1',\n",
    "    subquestion='What is the number of memory levels (including DRAM and registers)',\n",
    "    answer= 'FILL ME',\n",
    "    required_type=int, \n",
    ")\n",
    "answer(\n",
    "    question='1.2.1',\n",
    "    subquestion='How many bits used to represent a value?',\n",
    "    answer= 'FILL ME',\n",
    "    required_type=int, \n",
    ")\n",
    "answer(\n",
    "    question='1.2.1',\n",
    "    subquestion='How many bytes is the local scratchpad?',\n",
    "    answer= 'FILL ME',\n",
    "    required_type=int, \n",
    ")"
   ]
  },
  {
   "cell_type": "markdown",
   "metadata": {},
   "source": [
    "Now take a look at the compound component descriptions at `designs/components`. These consist of multiple primitive elements to make a more complex element for analysis. These files describe the hardware details of each component in the design."
   ]
  },
  {
   "cell_type": "code",
   "execution_count": null,
   "metadata": {
    "scrolled": true
   },
   "outputs": [],
   "source": [
    "show_config('designs/components/mac_compute.yaml')\n",
    "show_config('designs/components/reg_storage.yaml')\n",
    "show_config('designs/components/smart_storage.yaml')"
   ]
  },
  {
   "cell_type": "code",
   "execution_count": null,
   "metadata": {},
   "outputs": [],
   "source": [
    "answer(\n",
    "    question='1.2.2',\n",
    "    subquestion='True/False: These components are made of multiple subcomponents. (False if they are made of a single subcomponent)',\n",
    "    answer= 'FILL ME',\n",
    "    required_type=bool, \n",
    ")\n",
    "answer(\n",
    "    question='1.2.3',\n",
    "    subquestion='True/False: According to description of the `mac_compute` compound component, is our architecture capable of performing floating point computations?',\n",
    "    answer= 'FILL ME',\n",
    "    required_type=bool, \n",
    ")"
   ]
  },
  {
   "cell_type": "markdown",
   "metadata": {},
   "source": [
    "### Question 3\n",
    "The command below performs static hardware charaterizations using **Accelergy**. You do not need to worry about the warning messages.\n",
    "\n",
    "Now examine the file `designs/singlePE/output/ERT.yaml`. Please fill in the statements below in pJ. (**note that the implicit energy unit for the ERT is pJ**)"
   ]
  },
  {
   "cell_type": "code",
   "execution_count": null,
   "metadata": {},
   "outputs": [],
   "source": [
    "result = run_accelergy(\n",
    "    architecture='designs/singlePE/arch.yaml',\n",
    ")\n",
    "# The energy reference table (ERT) is the one used to compute energy.\n",
    "print(result.ert)\n",
    "\n",
    "# The verbose energy reference table shows more information. You don't need it here but later in Q1.6\n",
    "# print(result.ert_verbose)"
   ]
  },
  {
   "cell_type": "code",
   "execution_count": null,
   "metadata": {},
   "outputs": [],
   "source": [
    "answer(\n",
    "    question='1.3',\n",
    "    subquestion='What is the mac compute energy?',\n",
    "    answer= 'FILL ME',\n",
    "    required_type=Number, \n",
    ")\n",
    "answer(\n",
    "    question='1.3',\n",
    "    subquestion='What is the DRAM write energy?',\n",
    "    answer= 'FILL ME',\n",
    "    required_type=Number, \n",
    ")\n",
    "answer(\n",
    "    question='1.3',\n",
    "    subquestion='What is the scratchpad leak energy?',\n",
    "    answer= 'FILL ME',\n",
    "    required_type=Number, \n",
    ")"
   ]
  },
  {
   "cell_type": "markdown",
   "metadata": {},
   "source": [
    "### Question 4 \n",
    "\n",
    "Take a look at the `designs/singlePE/map.yaml` config file below. This config describes a mapping for a certain workload. Can you tell what are the values of `M0`, `N0`, `C0`, `R`, `S`, `P`, `Q` in the loop nest above by examining the mapping? For each of variable, if you can, specify the value in the following chart."
   ]
  },
  {
   "cell_type": "markdown",
   "metadata": {},
   "source": [
    "**A note on Timeloop mapping conventions**\n",
    "\n",
    "1. ```permutation``` is the order of the loops from inner to outer. ```factors``` is the number of tiles on that level. For example, permutation QPS and factors `Q=5`, `P=2`, and `S=4` means the following loop nest.\n",
    "\t```\n",
    "\tfor s in [0, 4):\n",
    "\t for p in [0, 2):\n",
    "\t  for q in [0, 5):\n",
    "\t...\n",
    "\t```\n",
    "\n",
    "2. A buffer level (e.g., scratchpad, registers) can also have a bypass specification. For example, an output buffer with `keep=[Output]` and `bypass=[Weights, Input]` will store only the `Output` tensor."
   ]
  },
  {
   "cell_type": "code",
   "execution_count": null,
   "metadata": {},
   "outputs": [],
   "source": [
    "show_config('designs/singlePE/map.yaml')"
   ]
  },
  {
   "cell_type": "code",
   "execution_count": null,
   "metadata": {
    "pycharm": {
     "is_executing": false
    }
   },
   "outputs": [],
   "source": [
    "answer(\n",
    "    question='1.4',\n",
    "    subquestion='What are the [M0, N0, C0] factors?',\n",
    "    answer= ['FILL ME', 'FILL ME', 'FILL ME'], # For each of the factors, put down the value if it is possible to tell what the value is. Otherwise, put down 'nan'.\n",
    "    required_type=[(int, \"nan\"), (int, \"nan\"), (int, \"nan\")], \n",
    ")\n",
    "answer(\n",
    "    question='1.4',\n",
    "    subquestion='What are the [S, R, P, Q] factors?',\n",
    "    answer= ['FILL ME', 'FILL ME', 'FILL ME', 'FILL ME'], # For each of the factors, put down the value if it is possible to tell what the value is. Otherwise, put down 'nan'.\n",
    "    required_type=[(int, \"nan\"), (int, \"nan\"), (int, \"nan\"), (int, \"nan\")],\n",
    ")"
   ]
  },
  {
   "cell_type": "markdown",
   "metadata": {},
   "source": [
    "### Question 5\n",
    "The command below performs a **Timeloop** runtime simulation of your design, and **Accelergy** is queried as the backend to provide energy estimations for each simulated component. That's why you will see the Accelergy related outputs as well (*e.g.,* `timeloop-model.ERT.yaml`)."
   ]
  },
  {
   "cell_type": "code",
   "execution_count": null,
   "metadata": {},
   "outputs": [],
   "source": [
    "conv2_results = run_timeloop_model(\n",
    "    architecture='designs/singlePE/arch.yaml',\n",
    "    mapping='designs/singlePE/map.yaml',\n",
    "    problem='layer_shapes/conv2.yaml'\n",
    ")\n",
    "conv2_stats = open('./output_dir/timeloop-model.stats.txt', 'r').read()\n",
    "conv2_mapping = conv2_results.mapping"
   ]
  },
  {
   "cell_type": "markdown",
   "metadata": {},
   "source": [
    "**Understanding Timeloop Output**\n",
    "\n",
    "From `conv2_mapping`, can you now tell the dimensions of the layer shape by looking at the produced mapping? Take a look at the `conv2_stats`, and fill in the statements below."
   ]
  },
  {
   "cell_type": "code",
   "execution_count": null,
   "metadata": {},
   "outputs": [],
   "source": [
    "print(conv2_mapping)"
   ]
  },
  {
   "cell_type": "code",
   "execution_count": null,
   "metadata": {},
   "outputs": [],
   "source": [
    "answer(\n",
    "    question='1.5',\n",
    "    subquestion='What is the number of input channels?',\n",
    "    answer= 'FILL ME',\n",
    "    required_type=int,\n",
    ")\n",
    "answer(\n",
    "    question='1.5',\n",
    "    subquestion='What is the number of output channels?',\n",
    "    answer= 'FILL ME',\n",
    "    required_type=int,\n",
    ")\n",
    "answer(\n",
    "    question='1.5',\n",
    "    subquestion='What is the batch size?',\n",
    "    answer= 'FILL ME',\n",
    "    required_type=int,\n",
    ")\n",
    "answer(\n",
    "    question='1.5',\n",
    "    subquestion='What are the output P and Q? P and Q are the same, so just give one value.',\n",
    "    answer= 'FILL ME',\n",
    "    required_type=int,\n",
    ")\n",
    "answer(\n",
    "    question='1.5',\n",
    "    subquestion='What are the weight R and S? R and S are the same, so just give one value.',\n",
    "    answer= 'FILL ME',\n",
    "    required_type=int,\n",
    ")"
   ]
  },
  {
   "cell_type": "markdown",
   "metadata": {},
   "source": [
    "View `conv2_stats` and fill in the statements below."
   ]
  },
  {
   "cell_type": "code",
   "execution_count": null,
   "metadata": {
    "scrolled": true
   },
   "outputs": [],
   "source": [
    "print(conv2_stats)"
   ]
  },
  {
   "cell_type": "code",
   "execution_count": null,
   "metadata": {},
   "outputs": [],
   "source": [
    "answer(\n",
    "    question='1.5',\n",
    "    subquestion='What is the number of cycles?',\n",
    "    answer= 'FILL ME',\n",
    "    required_type=int,\n",
    ")\n",
    "answer(\n",
    "    question='1.5',\n",
    "    subquestion='What is the total MAC energy (pJ overall, NOT PER MAC)?',\n",
    "    answer= 'FILL ME',\n",
    "    required_type=Number,\n",
    ")\n",
    "answer(\n",
    "    question='1.5',\n",
    "    subquestion='What is the total scratchpad energy (pJ overall, NOT PER MAC)?',\n",
    "    answer= 'FILL ME',\n",
    "    required_type=Number,\n",
    ")\n",
    "answer(\n",
    "    question='1.5',\n",
    "    subquestion='What is the total DRAM energy (pJ overall, NOT PER MAC)?',\n",
    "    answer= 'FILL ME',\n",
    "    required_type=Number,\n",
    ")\n",
    "answer(\n",
    "    question='1.5',\n",
    "    subquestion='What is the pJ/compute',\n",
    "    answer= 'FILL ME',\n",
    "    required_type=Number,\n",
    ")"
   ]
  },
  {
   "cell_type": "markdown",
   "metadata": {},
   "source": [
    "### Question 6\n",
    "\n",
    "Since you now have an understanding of the input and output files of the tools, we would like you to write your own input files and feed it to the evaluation system.\n",
    "\n",
    "Many modern accelerator designs integrate address generators into their storages. The address generator is responsible for generating a sequence of read and write addresses for the memory, *i.e.,* for each read and write, the address is generated locally by the address generator. Typically, the address generator can be represented as an adder.\n",
    "\n",
    "In this question, we would like you to update the compound component definition for the scratchpad to reflect the existence of such an additional address generator. To be specific:\n",
    "\n",
    "1. name of the address generator: address_generator\n",
    "2. class of the address generator: intadder\n",
    "3. attributes associated with the address generator: \n",
    "    - datawidth (hint: arithmetic expressions including the ceil, floor, and\n",
    "      log2 functions can be used). The datawidth of the address generator should\n",
    "      be set to the minimum value such that each row of the memory has a unique\n",
    "      address (*i.e.,* number of unique values must be >= memory depth).\n",
    "    - technology\n",
    "    - latency (hint: the global_cycle_seconds global variable is visible and can be used)\n",
    "4. you also need to specify the role your address generator plays when the storage is read and written, and when the storage leaks over time (hint: the intadder has `add` and `leak` actions)\n",
    "\n",
    "Inspect the `designs/components/smart_storage_addr_gen.yaml` configuration below. We will be setting variables enclosed in double curly braces {{ }} with a function later."
   ]
  },
  {
   "cell_type": "code",
   "execution_count": null,
   "metadata": {
    "scrolled": true
   },
   "outputs": [],
   "source": [
    "show_config('designs/components/smart_storage_addr_gen.yaml')"
   ]
  },
  {
   "cell_type": "markdown",
   "metadata": {},
   "source": [
    "Fill the following dictionary to set double-curly-brace-enclosed variables in\n",
    "the above description. Afterwards, run Accelergy (the command cell below).\n",
    "Examine the outputs and fill in the chart below. "
   ]
  },
  {
   "cell_type": "code",
   "execution_count": null,
   "metadata": {
    "scrolled": true
   },
   "outputs": [],
   "source": [
    "address_generator_config = dict(\n",
    "    use_smart_storage_addr_gen = True, # DO NOT CHANGE THIS LINE\n",
    "    address_generator_name = 'FILL ME', \n",
    "    address_generator_class  = 'FILL ME',\n",
    "    address_generator_technology_attribute = '\"45nm\"',\n",
    "    address_generator_number_of_address_bits = 'FILL ME',\n",
    "    address_generator_action_for_write = 'FILL ME',\n",
    "    address_generator_action_for_read = 'FILL ME',\n",
    "    address_generator_action_for_leak = 'FILL ME',\n",
    "########################\n",
    "#### YOUR CODE HERE ####\n",
    "########################\n",
    ")\n",
    "\n",
    "single_pe_ag_accelergy_result = run_accelergy(\n",
    "    address_generator_config,\n",
    "    architecture='designs/singlePE/arch.yaml',\n",
    ")\n",
    "print(single_pe_ag_accelergy_result.ert_verbose)"
   ]
  },
  {
   "cell_type": "code",
   "execution_count": null,
   "metadata": {},
   "outputs": [],
   "source": [
    "# <HINT> You should see the address generator's contributions to the energy in\n",
    "# the ERT above. If you don't see it, you may want to check your answer.\n",
    "answer(\n",
    "    question='1.6',\n",
    "    subquestion='What is the read energy of the scratchpad (pJ)?',\n",
    "    answer= 'FILL ME',\n",
    "    required_type=Number,\n",
    ")\n",
    "answer(\n",
    "    question='1.6',\n",
    "    subquestion='What is the write energy of the scratchpad (pJ)?',\n",
    "    answer= 'FILL ME',\n",
    "    required_type=Number,\n",
    ")\n",
    "answer(\n",
    "    question='1.6',\n",
    "    subquestion='What is the leak energy of the scratchpad (pJ)?',\n",
    "    answer= 'FILL ME',\n",
    "    required_type=Number,\n",
    ")\n",
    "\n",
    "answer( # No need for you to change this one.\n",
    "    question='1.6',\n",
    "    subquestion='What parameters did you put for (name, class, technology, datawidth, write_action, read_action, leak_action)?',\n",
    "    answer=list(address_generator_config.values())[1:],\n",
    "    required_type=[str] * (len(address_generator_config) - 1),\n",
    ")"
   ]
  },
  {
   "cell_type": "markdown",
   "metadata": {},
   "source": [
    "### Question 7\n",
    "So far, we have been focusing on studying the dataflow described in the provided loop nest above. In this question, we would like you to update the mapping to represent a new loop nest shown below. \n",
    "\n",
    "Please set the bounds in the `designs/singlePE/map_os.yaml` mapping according to the layer shape described in `layer_shapes/conv2.yaml`. You will again be doing this in the code cell below. **Note that some of the inner bounds are set for you** and **only keep outputs inside the scratchpad**.\n",
    "\n",
    "After you have updated the mapping, run `timeloop-model` in the command cell below. Please also fill in the chart below:"
   ]
  },
  {
   "cell_type": "markdown",
   "metadata": {},
   "source": [
    "<div class=\"row\">\n",
    "  <div class=\"column\">\n",
    "    <img align=\"center\" src=\"designs/singlePE/figures/loopnest_os.png\" alt=\"PE Architecture\" style=\"margin:0px 0px 70px 70px; width:100%\">\n",
    "  </div>\n",
    "</div>"
   ]
  },
  {
   "cell_type": "code",
   "execution_count": null,
   "metadata": {},
   "outputs": [],
   "source": [
    "show_config('layer_shapes/conv2.yaml')"
   ]
  },
  {
   "cell_type": "markdown",
   "metadata": {},
   "source": [
    "**Update the mapping**\n",
    "\n",
    "First, view the map file in `designs/singlePE/map_os.yaml`. Inspect the double-curly-brace-enclosed statements-- these we'll be filling in. When we update the dictionaries below, double-curly-brace-enclosed variables will be updated as the YAML file is loaded in.\n",
    "\n",
    "Fill out the variables in the dictionaries below to match the output-stationary loop nest for the problem above."
   ]
  },
  {
   "cell_type": "code",
   "execution_count": null,
   "metadata": {},
   "outputs": [],
   "source": [
    "show_config('designs/singlePE/map_os.yaml')"
   ]
  },
  {
   "cell_type": "code",
   "execution_count": null,
   "metadata": {},
   "outputs": [],
   "source": [
    "os_map_config = dict(\n",
    "    DRAM_factor_R='FILL ME', # Set to an integer\n",
    "    DRAM_factor_S='FILL ME', # Set to an integer\n",
    "    DRAM_factor_P='FILL ME', # Set to an integer\n",
    "    DRAM_factor_Q='FILL ME', # Set to an integer\n",
    "    DRAM_factor_N='FILL ME', # Set to an integer\n",
    "    DRAM_factor_M='FILL ME', # Set to an integer\n",
    "    DRAM_factor_C='FILL ME', # Set to an integer\n",
    "    DRAM_permutation=['FILL', 'ME'], # Set to a list\n",
    "\n",
    "    scratchpad_factor_R='FILL ME', # Set to an integer\n",
    "    scratchpad_factor_S='FILL ME', # Set to an integer\n",
    "    scratchpad_factor_P='FILL ME', # Set to an integer\n",
    "    scratchpad_factor_Q='FILL ME', # Set to an integer\n",
    "    scratchpad_factor_N='FILL ME', # Set to an integer\n",
    "    scratchpad_factor_M='FILL ME', # Set to an integer\n",
    "    scratchpad_factor_C='FILL ME', # Set to an integer\n",
    "    scratchpad_permutation=['FILL', 'ME'], # Set to a list\n",
    "    scratchpad_keep_list=['FILL', 'ME'], # Set to a list\n",
    "    scratchpad_bypass_list=['FILL', 'ME'], # Set to a list\n",
    "########################\n",
    "#### YOUR CODE HERE ####\n",
    "########################\n",
    ")\n",
    "\n",
    "# No need for you to change the following lines.\n",
    "for key, value in os_map_config.items():\n",
    "    required_type = int\n",
    "    if 'permutation' in key or 'list' in key:\n",
    "        required_type = [str] * len(value)\n",
    "    answer(\n",
    "        question='1.7',\n",
    "        subquestion=f'Setting for {key} in the os_map_config',\n",
    "        answer=value,\n",
    "        required_type=required_type,\n",
    "    )"
   ]
  },
  {
   "cell_type": "code",
   "execution_count": null,
   "metadata": {},
   "outputs": [],
   "source": [
    "single_pe_os_results = run_timeloop_model(\n",
    "    os_map_config,\n",
    "    architecture='designs/singlePE/arch.yaml',\n",
    "    mapping='designs/singlePE/map_os.yaml',\n",
    "    problem='layer_shapes/conv2.yaml'\n",
    ")\n",
    "single_pe_os_stats = open('./output_dir/timeloop-model.stats.txt', 'r').read()\n",
    "single_pe_os_mapping = single_pe_os_results.mapping  # You can print to check your answer\n",
    "print(single_pe_os_stats)"
   ]
  },
  {
   "cell_type": "code",
   "execution_count": null,
   "metadata": {
    "pycharm": {
     "is_executing": false
    }
   },
   "outputs": [],
   "source": [
    "answer(\n",
    "    question='1.7.2',\n",
    "    subquestion=f'Number of cycles',\n",
    "    answer= 'FILL ME',\n",
    "    required_type=int,\n",
    ")\n",
    "answer(\n",
    "    question='1.7.2',\n",
    "    subquestion=f'MAC energy (pJ overall, NOT PER MAC)',\n",
    "    answer= 'FILL ME',\n",
    "    required_type=Number,\n",
    ")\n",
    "answer(\n",
    "    question='1.7.2',\n",
    "    subquestion=f'Scratchpad energy (pJ overall, NOT PER MAC)',\n",
    "    answer= 'FILL ME',\n",
    "    required_type=Number,\n",
    ")\n",
    "answer(\n",
    "    question='1.7.2',\n",
    "    subquestion=f'DRAM energy (pJ overall, NOT PER MAC)',\n",
    "    answer= 'FILL ME',\n",
    "    required_type=Number,\n",
    ")\n",
    "answer(\n",
    "    question='1.7.2',\n",
    "    subquestion=f'Total pJ/compute',\n",
    "    answer= 'FILL ME',\n",
    "    required_type=Number,\n",
    ")"
   ]
  },
  {
   "cell_type": "markdown",
   "metadata": {},
   "source": [
    "### Question 8\n",
    "This question asks about the influence of moving loops on the overall data movement between different storages. In answering the following, please make the following assumptions:\n",
    "- All storages are large enough to fit all data. \n",
    "- If a temporal loop is above a given storage element, then that storage element is flushed (*i.e.*, all data is removed and re-fetched) for each iteration of the loop. This happens even if the data does not change across loop iterations (*i.e.,* if an upper-level buffer iterates over M, we would flush inputs from a lower-level buffer.)\n",
    "\n",
    "We will be processing a convolutional layer with the following Einsum (note stride equals 1): \n",
    "\n",
    "$$\n",
    "O_{m,n,p,q} = I_{n,c,p+r,q+s} \\times F_{m,c,r,s}\n",
    "$$\n",
    "\n",
    "We currently have the following storage hierarchy and loop nest:\n",
    "\n",
    "```\n",
    "DRAM [Weights Inputs Outputs]\n",
    "-----------------------------\n",
    "| for P in [0..2):        Loop (P)\n",
    "|  for Q in [0..2):       Loop (Q)\n",
    "|   for C in [0..2):      Loop (C)\n",
    "|    for R in [0..2):     Loop (R)\n",
    "|     for S in [0..2):    Loop (S)\n",
    "|      for N in [0..2):   Loop (N)\n",
    "|       for M in [0..2):  Loop (M)\n",
    "\n",
    "Scratchpad [Weights Inputs Outputs]\n",
    "--------------------------------------\n",
    "< No loops here >\n",
    "\n",
    "Registers [Weights Inputs Outputs]\n",
    "----------------------------------\n",
    "|               <MAC>\n",
    "```\n",
    "\n",
    "Note that the above loop syntax uses Timeloop notation, where loops are written with a capital dimension name rather than iteration variables. For example, the following loop nest is Timeloop notation:\n",
    "```\n",
    "for P in [0..2):\n",
    "  for P in [0..2):\n",
    "```\n",
    "\n",
    "And is equivalent to the following standard notation loop nest:\n",
    "```\n",
    "for p0 in [0..2):\n",
    "  for p1 in [0..2):\n",
    "```\n",
    "\n",
    "Please answer the following."
   ]
  },
  {
   "cell_type": "code",
   "execution_count": null,
   "metadata": {},
   "outputs": [],
   "source": [
    "answer(\n",
    "    question='1.8',\n",
    "    subquestion='How many inputs, outputs, and weights (including duplicates) are transferred from DRAM to the scratchpad? Answer in the order of inputs, outputs, and weights.',\n",
    "    answer= ['FILL ME', 'FILL ME', 'FILL ME'], # Answer here\n",
    "    required_type=[int, int, int],\n",
    ")\n",
    "answer(\n",
    "    question='1.8',\n",
    "    subquestion='How many inputs, outputs, and weights (including duplicates) are transferred from the scratchpad to the registers? Answer in the order of inputs, outputs, and weights.',\n",
    "    answer= ['FILL ME', 'FILL ME', 'FILL ME'], # Answer here\n",
    "    required_type=[int, int, int],\n",
    ")\n",
    "\n"
   ]
  },
  {
   "cell_type": "markdown",
   "metadata": {},
   "source": [
    "We now have the option of moving loop (P), (Q), (C), (R), (S), or (M) from beneath the DRAM to beneath the scratchpad (*e.g.,* if we chose (P), the (P) loop would be removed from the DRAM loop nest and instead be placed in the scratchpad loop nest)."
   ]
  },
  {
   "cell_type": "code",
   "execution_count": null,
   "metadata": {},
   "outputs": [],
   "source": [
    "answer(\n",
    "    question='1.8',\n",
    "    subquestion='If we choose to move the (M) loop to beneath the scratchpad, how many inputs, outputs, and weights are transferred from DRAM to the scratchpad? Count repeated transfers as unique transfers (i.e., read a particular input twice --> two inputs transferred).',\n",
    "    answer= ['FILL ME', 'FILL ME', 'FILL ME'], # Answer here\n",
    "    required_type=[int, int, int],\n",
    ")\n",
    "answer(\n",
    "    question='1.8',\n",
    "    subquestion='If we choose to move the (M) loop to beneath the scratchpad, how many inputs, outputs, and weights are transferred from the scratchpad to the registers? Count repeated transfers as unique transfers (i.e., read a particular input twice --> two inputs transferred).',\n",
    "    answer= ['FILL ME', 'FILL ME', 'FILL ME'], # Answer here\n",
    "    required_type=[int, int, int],\n",
    ")\n",
    "\n",
    "answer(\n",
    "    question='1.8',\n",
    "    subquestion='If we choose to move the (C) loop to beneath the scratchpad, how many inputs, outputs, and weights are transferred from DRAM to the scratchpad? Count repeated transfers as unique transfers (i.e., read a particular input twice --> two inputs transferred).',\n",
    "    answer= ['FILL ME', 'FILL ME', 'FILL ME'], # Answer here\n",
    "    required_type=[int, int, int],\n",
    ")\n",
    "answer(\n",
    "    question='1.8',\n",
    "    subquestion='If we choose to move the (C) loop to beneath the scratchpad, how many inputs, outputs, and weights are transferred from the scratchpad to the registers? Count repeated transfers as unique transfers (i.e., read a particular input twice --> two inputs transferred).',\n",
    "    answer= ['FILL ME', 'FILL ME', 'FILL ME'], # Answer here\n",
    "    required_type=[int, int, int],\n",
    ")\n",
    "\n",
    "answer(\n",
    "    question='1.8',\n",
    "    subquestion='If we choose to move the (N) loop to beneath the scratchpad, how many inputs, outputs, and weights are transferred from DRAM to the scratchpad? Count repeated transfers as unique transfers (i.e., read a particular input twice --> two inputs transferred).',\n",
    "    answer= ['FILL ME', 'FILL ME', 'FILL ME'], # Answer here\n",
    "    required_type=[int, int, int],\n",
    ")\n",
    "answer(\n",
    "    question='1.8',\n",
    "    subquestion='If we choose to move the (N) loop to beneath the scratchpad, how many inputs, outputs, and weights are transferred from the scratchpad to the registers? Count repeated transfers as unique transfers (i.e., read a particular input twice --> two inputs transferred).',\n",
    "    answer= ['FILL ME', 'FILL ME', 'FILL ME'], # Answer here\n",
    "    required_type=[int, int, int],\n",
    ")\n",
    "\n",
    "answer(\n",
    "    question='1.8',\n",
    "    subquestion='Looking at the einsum, what has to be true about a loop for it to be helpful in reducing DRAM-scratchpad transfers for a particular datatype by moving it from the DRAM to the scratchpad loop nest? Please answer using the rank of the loop (*i.e.* P,Q,R,S,C,N,M) and its role in the Einsum.',\n",
    "    answer= 'FILL ME',\n",
    "    required_type=str,\n",
    "    assumptions=[], # Put a list of strings as assumptions, if any.\n",
    ")\n",
    "answer(\n",
    "    question='1.8',\n",
    "    subquestion='Were we able to affect data movement between the scratchpad and registers? Why or why not?',\n",
    "    answer= 'FILL ME',\n",
    "    required_type=str,\n",
    "    assumptions=[], # Put a list of strings as assumptions, if any.\n",
    ")"
   ]
  },
  {
   "cell_type": "markdown",
   "metadata": {},
   "source": [
    "Now fill out the following lines with (P), (Q), (R), (S), (C), (N), and (M). If we can't reduce data movement by moving any of the loops, say \"None\". *Hint: The ordering of scratchpad-level loops will affect your answer. Could moving certain loops lead to reuse through convolutional sliding windows?*"
   ]
  },
  {
   "cell_type": "code",
   "execution_count": null,
   "metadata": {},
   "outputs": [],
   "source": [
    "ALLOWED_ANSWERS = ('(P)', '(Q)', '(R)', '(S)', '(C)', '(N)', '(M)')\n",
    "answer(\n",
    "    question='1.8',\n",
    "    subquestion='To reduce **DRAM <==> Scratchpad** input movement, we could move loops:',\n",
    "    answer= ['FILL ME', 'FILL ME', 'FILL ME', 'FILL ME', 'FILL ME'], # Answer here\n",
    "    required_type=[ALLOWED_ANSWERS] * 5,\n",
    ")\n",
    "answer(\n",
    "    question='1.8',\n",
    "    subquestion='To reduce **DRAM <==> Scratchpad** output movement, we could move loops:',\n",
    "    answer= ['FILL ME', 'FILL ME', 'FILL ME'], # Answer here\n",
    "    required_type=[ALLOWED_ANSWERS] * 3,\n",
    ")\n",
    "answer(\n",
    "    question='1.8',\n",
    "    subquestion='To reduce **DRAM <==> Scratchpad** weight movement, we could move loops:',\n",
    "    answer= ['FILL ME', 'FILL ME', 'FILL ME'], # Answer here\n",
    "    required_type=[ALLOWED_ANSWERS] * 3,\n",
    ")"
   ]
  }
 ],
 "metadata": {
  "kernelspec": {
   "display_name": "Python 3 (ipykernel)",
   "language": "python",
   "name": "python3"
  },
  "language_info": {
   "codemirror_mode": {
    "name": "ipython",
    "version": 3
   },
   "file_extension": ".py",
   "mimetype": "text/x-python",
   "name": "python",
   "nbconvert_exporter": "python",
   "pygments_lexer": "ipython3",
   "version": "3.11.2"
  },
  "pycharm": {
   "stem_cell": {
    "cell_type": "raw",
    "metadata": {
     "collapsed": false
    },
    "source": []
   }
  }
 },
 "nbformat": 4,
 "nbformat_minor": 4
}
